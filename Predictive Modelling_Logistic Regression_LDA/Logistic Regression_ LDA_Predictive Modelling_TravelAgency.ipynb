{
 "cells": [
  {
   "cell_type": "markdown",
   "metadata": {},
   "source": [
    "### Problem 2: Logistic Regression and LDA\n",
    "\n",
    "You are hired by a tour and travel agency which deals in selling holiday packages. You are provided details of 872 employees of a company. Among these employees, some opted for the package and some didn't. You have to help the company in predicting whether an employee will opt for the package or not on the basis of the information given in the data set. Also, find out the important factors on the basis of which the company will focus on particular employees to sell their packages.\n",
    "\n",
    "Data Dictionary:\n",
    "\n",
    "<b>Variable Name</b>:Description\n",
    "\n",
    "<b>Holiday_Package</b>:Opted for Holiday Package yes/no?\n",
    "\n",
    "<b>Salary</b>:Employee salary\n",
    "\n",
    "<b>age</b>:Age in years\n",
    "\n",
    "<b>edu</b>:Years of formal education\n",
    "\n",
    "<b>no_young_children</b>:The number of young children (younger than 7 years)\n",
    "\n",
    "<b>no_older_children</b>:Number of older children\n",
    "\n",
    "<b>foreign</b>:Yes/No\n",
    "\n",
    "\n",
    "2.1 Data Ingestion: Read the dataset. Do the descriptive statistics and do null value condition check, write an inference on it. Perform Univariate and Bivariate Analysis. Do exploratory data analysis.\n",
    "\n",
    "2.2 Do not scale the data. Encode the data (having string values) for Modelling. Data Split: Split the data into train and test (70:30). Apply Logistic Regression and LDA (linear discriminant analysis).\n",
    "\n",
    "2.3 Performance Metrics: Check the performance of Predictions on Train and Test sets using Accuracy, Confusion Matrix, Plot ROC curve and get ROC_AUC score for each model Final Model: Compare Both the models and write inference which model is best/optimized.\n",
    "\n",
    "2.4 Inference: Basis on these predictions, what are the insights and recommendations.\n",
    "Please explain and summarise the various steps performed in this project. There should be proper business interpretation and actionable insights present."
   ]
  },
  {
   "cell_type": "code",
   "execution_count": 617,
   "metadata": {},
   "outputs": [
    {
     "data": {
      "text/plain": [
       "'C:\\\\Users\\\\612598\\\\OneDrive - Cognizant\\\\Desktop\\\\Great Learning\\\\Predictive Modelling Assignment'"
      ]
     },
     "execution_count": 617,
     "metadata": {},
     "output_type": "execute_result"
    }
   ],
   "source": [
    "# import os to set the path\n",
    "import os\n",
    "os.getcwd()"
   ]
  },
  {
   "cell_type": "code",
   "execution_count": 618,
   "metadata": {},
   "outputs": [
    {
     "data": {
      "text/plain": [
       "'C:\\\\Users\\\\612598\\\\OneDrive - Cognizant\\\\Desktop\\\\Great Learning\\\\Predictive Modelling Assignment'"
      ]
     },
     "execution_count": 618,
     "metadata": {},
     "output_type": "execute_result"
    }
   ],
   "source": [
    "os.chdir('C:\\\\Users\\\\612598\\\\OneDrive - Cognizant\\\\Desktop\\\\Great Learning\\\\Predictive Modelling Assignment')\n",
    "os.getcwd()"
   ]
  },
  {
   "cell_type": "code",
   "execution_count": 619,
   "metadata": {},
   "outputs": [],
   "source": [
    "# import all necessary libraries.\n",
    "import numpy as np\n",
    "import pandas as pd\n",
    "import seaborn as sns\n",
    "import matplotlib.pyplot as plt\n",
    "from sklearn.model_selection import train_test_split,GridSearchCV\n",
    "from sklearn.linear_model import LogisticRegression\n",
    "from sklearn import metrics\n",
    "from sklearn.metrics import roc_auc_score,roc_curve,classification_report,confusion_matrix,plot_confusion_matrix\n",
    "from warnings import filterwarnings\n",
    "filterwarnings(\"ignore\")\n",
    "from sklearn.discriminant_analysis import LinearDiscriminantAnalysis\n",
    "from sklearn import metrics,model_selection\n",
    "from sklearn.preprocessing import scale"
   ]
  },
  {
   "cell_type": "markdown",
   "metadata": {},
   "source": [
    "#### 2.1 Data Ingestion: Read the dataset. Do the descriptive statistics and do null value condition check, write an inference on it. Perform Univariate and Bivariate Analysis. Do exploratory data analysis."
   ]
  },
  {
   "cell_type": "markdown",
   "metadata": {},
   "source": [
    "Read the Dataset and store it into dataframe"
   ]
  },
  {
   "cell_type": "code",
   "execution_count": 620,
   "metadata": {},
   "outputs": [],
   "source": [
    "# Read the Dataset and store it in dataframe\n",
    "df=pd.read_csv('Holiday_Package.csv')"
   ]
  },
  {
   "cell_type": "markdown",
   "metadata": {},
   "source": [
    "Head of the data : First 5 rows"
   ]
  },
  {
   "cell_type": "code",
   "execution_count": 621,
   "metadata": {},
   "outputs": [
    {
     "data": {
      "text/html": [
       "<div>\n",
       "<style scoped>\n",
       "    .dataframe tbody tr th:only-of-type {\n",
       "        vertical-align: middle;\n",
       "    }\n",
       "\n",
       "    .dataframe tbody tr th {\n",
       "        vertical-align: top;\n",
       "    }\n",
       "\n",
       "    .dataframe thead th {\n",
       "        text-align: right;\n",
       "    }\n",
       "</style>\n",
       "<table border=\"1\" class=\"dataframe\">\n",
       "  <thead>\n",
       "    <tr style=\"text-align: right;\">\n",
       "      <th></th>\n",
       "      <th>Unnamed: 0</th>\n",
       "      <th>Holliday_Package</th>\n",
       "      <th>Salary</th>\n",
       "      <th>age</th>\n",
       "      <th>educ</th>\n",
       "      <th>no_young_children</th>\n",
       "      <th>no_older_children</th>\n",
       "      <th>foreign</th>\n",
       "    </tr>\n",
       "  </thead>\n",
       "  <tbody>\n",
       "    <tr>\n",
       "      <th>0</th>\n",
       "      <td>1</td>\n",
       "      <td>no</td>\n",
       "      <td>48412</td>\n",
       "      <td>30</td>\n",
       "      <td>8</td>\n",
       "      <td>1</td>\n",
       "      <td>1</td>\n",
       "      <td>no</td>\n",
       "    </tr>\n",
       "    <tr>\n",
       "      <th>1</th>\n",
       "      <td>2</td>\n",
       "      <td>yes</td>\n",
       "      <td>37207</td>\n",
       "      <td>45</td>\n",
       "      <td>8</td>\n",
       "      <td>0</td>\n",
       "      <td>1</td>\n",
       "      <td>no</td>\n",
       "    </tr>\n",
       "    <tr>\n",
       "      <th>2</th>\n",
       "      <td>3</td>\n",
       "      <td>no</td>\n",
       "      <td>58022</td>\n",
       "      <td>46</td>\n",
       "      <td>9</td>\n",
       "      <td>0</td>\n",
       "      <td>0</td>\n",
       "      <td>no</td>\n",
       "    </tr>\n",
       "    <tr>\n",
       "      <th>3</th>\n",
       "      <td>4</td>\n",
       "      <td>no</td>\n",
       "      <td>66503</td>\n",
       "      <td>31</td>\n",
       "      <td>11</td>\n",
       "      <td>2</td>\n",
       "      <td>0</td>\n",
       "      <td>no</td>\n",
       "    </tr>\n",
       "    <tr>\n",
       "      <th>4</th>\n",
       "      <td>5</td>\n",
       "      <td>no</td>\n",
       "      <td>66734</td>\n",
       "      <td>44</td>\n",
       "      <td>12</td>\n",
       "      <td>0</td>\n",
       "      <td>2</td>\n",
       "      <td>no</td>\n",
       "    </tr>\n",
       "  </tbody>\n",
       "</table>\n",
       "</div>"
      ],
      "text/plain": [
       "   Unnamed: 0 Holliday_Package  Salary  age  educ  no_young_children  \\\n",
       "0           1               no   48412   30     8                  1   \n",
       "1           2              yes   37207   45     8                  0   \n",
       "2           3               no   58022   46     9                  0   \n",
       "3           4               no   66503   31    11                  2   \n",
       "4           5               no   66734   44    12                  0   \n",
       "\n",
       "   no_older_children foreign  \n",
       "0                  1      no  \n",
       "1                  1      no  \n",
       "2                  0      no  \n",
       "3                  0      no  \n",
       "4                  2      no  "
      ]
     },
     "execution_count": 621,
     "metadata": {},
     "output_type": "execute_result"
    }
   ],
   "source": [
    "#Print first 5 rows\n",
    "df.head()"
   ]
  },
  {
   "cell_type": "markdown",
   "metadata": {},
   "source": [
    "Last 5 rows"
   ]
  },
  {
   "cell_type": "code",
   "execution_count": 622,
   "metadata": {},
   "outputs": [
    {
     "data": {
      "text/html": [
       "<div>\n",
       "<style scoped>\n",
       "    .dataframe tbody tr th:only-of-type {\n",
       "        vertical-align: middle;\n",
       "    }\n",
       "\n",
       "    .dataframe tbody tr th {\n",
       "        vertical-align: top;\n",
       "    }\n",
       "\n",
       "    .dataframe thead th {\n",
       "        text-align: right;\n",
       "    }\n",
       "</style>\n",
       "<table border=\"1\" class=\"dataframe\">\n",
       "  <thead>\n",
       "    <tr style=\"text-align: right;\">\n",
       "      <th></th>\n",
       "      <th>Unnamed: 0</th>\n",
       "      <th>Holliday_Package</th>\n",
       "      <th>Salary</th>\n",
       "      <th>age</th>\n",
       "      <th>educ</th>\n",
       "      <th>no_young_children</th>\n",
       "      <th>no_older_children</th>\n",
       "      <th>foreign</th>\n",
       "    </tr>\n",
       "  </thead>\n",
       "  <tbody>\n",
       "    <tr>\n",
       "      <th>867</th>\n",
       "      <td>868</td>\n",
       "      <td>no</td>\n",
       "      <td>40030</td>\n",
       "      <td>24</td>\n",
       "      <td>4</td>\n",
       "      <td>2</td>\n",
       "      <td>1</td>\n",
       "      <td>yes</td>\n",
       "    </tr>\n",
       "    <tr>\n",
       "      <th>868</th>\n",
       "      <td>869</td>\n",
       "      <td>yes</td>\n",
       "      <td>32137</td>\n",
       "      <td>48</td>\n",
       "      <td>8</td>\n",
       "      <td>0</td>\n",
       "      <td>0</td>\n",
       "      <td>yes</td>\n",
       "    </tr>\n",
       "    <tr>\n",
       "      <th>869</th>\n",
       "      <td>870</td>\n",
       "      <td>no</td>\n",
       "      <td>25178</td>\n",
       "      <td>24</td>\n",
       "      <td>6</td>\n",
       "      <td>2</td>\n",
       "      <td>0</td>\n",
       "      <td>yes</td>\n",
       "    </tr>\n",
       "    <tr>\n",
       "      <th>870</th>\n",
       "      <td>871</td>\n",
       "      <td>yes</td>\n",
       "      <td>55958</td>\n",
       "      <td>41</td>\n",
       "      <td>10</td>\n",
       "      <td>0</td>\n",
       "      <td>1</td>\n",
       "      <td>yes</td>\n",
       "    </tr>\n",
       "    <tr>\n",
       "      <th>871</th>\n",
       "      <td>872</td>\n",
       "      <td>no</td>\n",
       "      <td>74659</td>\n",
       "      <td>51</td>\n",
       "      <td>10</td>\n",
       "      <td>0</td>\n",
       "      <td>0</td>\n",
       "      <td>yes</td>\n",
       "    </tr>\n",
       "  </tbody>\n",
       "</table>\n",
       "</div>"
      ],
      "text/plain": [
       "     Unnamed: 0 Holliday_Package  Salary  age  educ  no_young_children  \\\n",
       "867         868               no   40030   24     4                  2   \n",
       "868         869              yes   32137   48     8                  0   \n",
       "869         870               no   25178   24     6                  2   \n",
       "870         871              yes   55958   41    10                  0   \n",
       "871         872               no   74659   51    10                  0   \n",
       "\n",
       "     no_older_children foreign  \n",
       "867                  1     yes  \n",
       "868                  0     yes  \n",
       "869                  0     yes  \n",
       "870                  1     yes  \n",
       "871                  0     yes  "
      ]
     },
     "execution_count": 622,
     "metadata": {},
     "output_type": "execute_result"
    }
   ],
   "source": [
    "# print last 5 rows\n",
    "df.tail()"
   ]
  },
  {
   "cell_type": "markdown",
   "metadata": {},
   "source": [
    "Data Attributes:"
   ]
  },
  {
   "cell_type": "code",
   "execution_count": 623,
   "metadata": {},
   "outputs": [
    {
     "name": "stdout",
     "output_type": "stream",
     "text": [
      "<class 'pandas.core.frame.DataFrame'>\n",
      "RangeIndex: 872 entries, 0 to 871\n",
      "Data columns (total 8 columns):\n",
      " #   Column             Non-Null Count  Dtype \n",
      "---  ------             --------------  ----- \n",
      " 0   Unnamed: 0         872 non-null    int64 \n",
      " 1   Holliday_Package   872 non-null    object\n",
      " 2   Salary             872 non-null    int64 \n",
      " 3   age                872 non-null    int64 \n",
      " 4   educ               872 non-null    int64 \n",
      " 5   no_young_children  872 non-null    int64 \n",
      " 6   no_older_children  872 non-null    int64 \n",
      " 7   foreign            872 non-null    object\n",
      "dtypes: int64(6), object(2)\n",
      "memory usage: 54.6+ KB\n"
     ]
    }
   ],
   "source": [
    "df.info()"
   ]
  },
  {
   "cell_type": "markdown",
   "metadata": {},
   "source": [
    "Holliday_Package and foreign  variables are of object type, we will assign codes to it and then feed this data to Model.\n",
    "Unnamed 0 is unwanted variable, which does not play any role here, Total we have 872 rows 8 columns in given dataset.\n",
    "No Null Values in the Data"
   ]
  },
  {
   "cell_type": "markdown",
   "metadata": {},
   "source": [
    "Description of Data:"
   ]
  },
  {
   "cell_type": "code",
   "execution_count": 624,
   "metadata": {},
   "outputs": [
    {
     "data": {
      "text/html": [
       "<div>\n",
       "<style scoped>\n",
       "    .dataframe tbody tr th:only-of-type {\n",
       "        vertical-align: middle;\n",
       "    }\n",
       "\n",
       "    .dataframe tbody tr th {\n",
       "        vertical-align: top;\n",
       "    }\n",
       "\n",
       "    .dataframe thead th {\n",
       "        text-align: right;\n",
       "    }\n",
       "</style>\n",
       "<table border=\"1\" class=\"dataframe\">\n",
       "  <thead>\n",
       "    <tr style=\"text-align: right;\">\n",
       "      <th></th>\n",
       "      <th>Unnamed: 0</th>\n",
       "      <th>Salary</th>\n",
       "      <th>age</th>\n",
       "      <th>educ</th>\n",
       "      <th>no_young_children</th>\n",
       "      <th>no_older_children</th>\n",
       "    </tr>\n",
       "  </thead>\n",
       "  <tbody>\n",
       "    <tr>\n",
       "      <th>count</th>\n",
       "      <td>872.000000</td>\n",
       "      <td>872.000000</td>\n",
       "      <td>872.000000</td>\n",
       "      <td>872.000000</td>\n",
       "      <td>872.000000</td>\n",
       "      <td>872.000000</td>\n",
       "    </tr>\n",
       "    <tr>\n",
       "      <th>mean</th>\n",
       "      <td>436.500000</td>\n",
       "      <td>47729.172018</td>\n",
       "      <td>39.955275</td>\n",
       "      <td>9.307339</td>\n",
       "      <td>0.311927</td>\n",
       "      <td>0.982798</td>\n",
       "    </tr>\n",
       "    <tr>\n",
       "      <th>std</th>\n",
       "      <td>251.869014</td>\n",
       "      <td>23418.668531</td>\n",
       "      <td>10.551675</td>\n",
       "      <td>3.036259</td>\n",
       "      <td>0.612870</td>\n",
       "      <td>1.086786</td>\n",
       "    </tr>\n",
       "    <tr>\n",
       "      <th>min</th>\n",
       "      <td>1.000000</td>\n",
       "      <td>1322.000000</td>\n",
       "      <td>20.000000</td>\n",
       "      <td>1.000000</td>\n",
       "      <td>0.000000</td>\n",
       "      <td>0.000000</td>\n",
       "    </tr>\n",
       "    <tr>\n",
       "      <th>25%</th>\n",
       "      <td>218.750000</td>\n",
       "      <td>35324.000000</td>\n",
       "      <td>32.000000</td>\n",
       "      <td>8.000000</td>\n",
       "      <td>0.000000</td>\n",
       "      <td>0.000000</td>\n",
       "    </tr>\n",
       "    <tr>\n",
       "      <th>50%</th>\n",
       "      <td>436.500000</td>\n",
       "      <td>41903.500000</td>\n",
       "      <td>39.000000</td>\n",
       "      <td>9.000000</td>\n",
       "      <td>0.000000</td>\n",
       "      <td>1.000000</td>\n",
       "    </tr>\n",
       "    <tr>\n",
       "      <th>75%</th>\n",
       "      <td>654.250000</td>\n",
       "      <td>53469.500000</td>\n",
       "      <td>48.000000</td>\n",
       "      <td>12.000000</td>\n",
       "      <td>0.000000</td>\n",
       "      <td>2.000000</td>\n",
       "    </tr>\n",
       "    <tr>\n",
       "      <th>max</th>\n",
       "      <td>872.000000</td>\n",
       "      <td>236961.000000</td>\n",
       "      <td>62.000000</td>\n",
       "      <td>21.000000</td>\n",
       "      <td>3.000000</td>\n",
       "      <td>6.000000</td>\n",
       "    </tr>\n",
       "  </tbody>\n",
       "</table>\n",
       "</div>"
      ],
      "text/plain": [
       "       Unnamed: 0         Salary         age        educ  no_young_children  \\\n",
       "count  872.000000     872.000000  872.000000  872.000000         872.000000   \n",
       "mean   436.500000   47729.172018   39.955275    9.307339           0.311927   \n",
       "std    251.869014   23418.668531   10.551675    3.036259           0.612870   \n",
       "min      1.000000    1322.000000   20.000000    1.000000           0.000000   \n",
       "25%    218.750000   35324.000000   32.000000    8.000000           0.000000   \n",
       "50%    436.500000   41903.500000   39.000000    9.000000           0.000000   \n",
       "75%    654.250000   53469.500000   48.000000   12.000000           0.000000   \n",
       "max    872.000000  236961.000000   62.000000   21.000000           3.000000   \n",
       "\n",
       "       no_older_children  \n",
       "count         872.000000  \n",
       "mean            0.982798  \n",
       "std             1.086786  \n",
       "min             0.000000  \n",
       "25%             0.000000  \n",
       "50%             1.000000  \n",
       "75%             2.000000  \n",
       "max             6.000000  "
      ]
     },
     "execution_count": 624,
     "metadata": {},
     "output_type": "execute_result"
    }
   ],
   "source": [
    "df.describe()"
   ]
  },
  {
   "cell_type": "markdown",
   "metadata": {},
   "source": [
    "Salary is continuous variable,Whereas age, educ and number young children are having integers.\n",
    "Two Variables 'Holiday Package' and 'Employee went to Foreign or Not' are Categorical Variables.\n",
    "Here Holiday Package is Target Variable/Independent variable. "
   ]
  },
  {
   "cell_type": "markdown",
   "metadata": {},
   "source": [
    "Lets drop the unwanted column : Unnamed: 0"
   ]
  },
  {
   "cell_type": "code",
   "execution_count": 625,
   "metadata": {},
   "outputs": [],
   "source": [
    "df_data=df.drop('Unnamed: 0',axis=1)"
   ]
  },
  {
   "cell_type": "markdown",
   "metadata": {},
   "source": [
    "Lets see the Head of Data After Removal of Unnamed column"
   ]
  },
  {
   "cell_type": "code",
   "execution_count": 626,
   "metadata": {},
   "outputs": [
    {
     "data": {
      "text/html": [
       "<div>\n",
       "<style scoped>\n",
       "    .dataframe tbody tr th:only-of-type {\n",
       "        vertical-align: middle;\n",
       "    }\n",
       "\n",
       "    .dataframe tbody tr th {\n",
       "        vertical-align: top;\n",
       "    }\n",
       "\n",
       "    .dataframe thead th {\n",
       "        text-align: right;\n",
       "    }\n",
       "</style>\n",
       "<table border=\"1\" class=\"dataframe\">\n",
       "  <thead>\n",
       "    <tr style=\"text-align: right;\">\n",
       "      <th></th>\n",
       "      <th>Holliday_Package</th>\n",
       "      <th>Salary</th>\n",
       "      <th>age</th>\n",
       "      <th>educ</th>\n",
       "      <th>no_young_children</th>\n",
       "      <th>no_older_children</th>\n",
       "      <th>foreign</th>\n",
       "    </tr>\n",
       "  </thead>\n",
       "  <tbody>\n",
       "    <tr>\n",
       "      <th>0</th>\n",
       "      <td>no</td>\n",
       "      <td>48412</td>\n",
       "      <td>30</td>\n",
       "      <td>8</td>\n",
       "      <td>1</td>\n",
       "      <td>1</td>\n",
       "      <td>no</td>\n",
       "    </tr>\n",
       "    <tr>\n",
       "      <th>1</th>\n",
       "      <td>yes</td>\n",
       "      <td>37207</td>\n",
       "      <td>45</td>\n",
       "      <td>8</td>\n",
       "      <td>0</td>\n",
       "      <td>1</td>\n",
       "      <td>no</td>\n",
       "    </tr>\n",
       "    <tr>\n",
       "      <th>2</th>\n",
       "      <td>no</td>\n",
       "      <td>58022</td>\n",
       "      <td>46</td>\n",
       "      <td>9</td>\n",
       "      <td>0</td>\n",
       "      <td>0</td>\n",
       "      <td>no</td>\n",
       "    </tr>\n",
       "    <tr>\n",
       "      <th>3</th>\n",
       "      <td>no</td>\n",
       "      <td>66503</td>\n",
       "      <td>31</td>\n",
       "      <td>11</td>\n",
       "      <td>2</td>\n",
       "      <td>0</td>\n",
       "      <td>no</td>\n",
       "    </tr>\n",
       "    <tr>\n",
       "      <th>4</th>\n",
       "      <td>no</td>\n",
       "      <td>66734</td>\n",
       "      <td>44</td>\n",
       "      <td>12</td>\n",
       "      <td>0</td>\n",
       "      <td>2</td>\n",
       "      <td>no</td>\n",
       "    </tr>\n",
       "  </tbody>\n",
       "</table>\n",
       "</div>"
      ],
      "text/plain": [
       "  Holliday_Package  Salary  age  educ  no_young_children  no_older_children  \\\n",
       "0               no   48412   30     8                  1                  1   \n",
       "1              yes   37207   45     8                  0                  1   \n",
       "2               no   58022   46     9                  0                  0   \n",
       "3               no   66503   31    11                  2                  0   \n",
       "4               no   66734   44    12                  0                  2   \n",
       "\n",
       "  foreign  \n",
       "0      no  \n",
       "1      no  \n",
       "2      no  \n",
       "3      no  \n",
       "4      no  "
      ]
     },
     "execution_count": 626,
     "metadata": {},
     "output_type": "execute_result"
    }
   ],
   "source": [
    "df_data.head()"
   ]
  },
  {
   "cell_type": "code",
   "execution_count": 627,
   "metadata": {},
   "outputs": [
    {
     "data": {
      "text/plain": [
       "Unnamed: 0           0\n",
       "Holliday_Package     0\n",
       "Salary               0\n",
       "age                  0\n",
       "educ                 0\n",
       "no_young_children    0\n",
       "no_older_children    0\n",
       "foreign              0\n",
       "dtype: int64"
      ]
     },
     "execution_count": 627,
     "metadata": {},
     "output_type": "execute_result"
    }
   ],
   "source": [
    "# Null values check\n",
    "df.isnull().sum()"
   ]
  },
  {
   "cell_type": "markdown",
   "metadata": {},
   "source": [
    "No Null Values can be seen in the data."
   ]
  },
  {
   "cell_type": "markdown",
   "metadata": {},
   "source": [
    "lets Check whether duplicates are present in the Dataset or not."
   ]
  },
  {
   "cell_type": "code",
   "execution_count": 628,
   "metadata": {},
   "outputs": [
    {
     "name": "stdout",
     "output_type": "stream",
     "text": [
      "Number of duplicate rows = 0\n",
      "(872, 7)\n"
     ]
    }
   ],
   "source": [
    "# no. of duplicates\n",
    "dups = df_data.duplicated()\n",
    "print('Number of duplicate rows = %d' % (dups.sum()))\n",
    "print(df_data.shape)"
   ]
  },
  {
   "cell_type": "markdown",
   "metadata": {},
   "source": [
    "No Duplicates seen in the Dataset"
   ]
  },
  {
   "cell_type": "code",
   "execution_count": 629,
   "metadata": {},
   "outputs": [
    {
     "data": {
      "text/plain": [
       "no     0.540138\n",
       "yes    0.459862\n",
       "Name: Holliday_Package, dtype: float64"
      ]
     },
     "execution_count": 629,
     "metadata": {},
     "output_type": "execute_result"
    }
   ],
   "source": [
    "df_data.Holliday_Package.value_counts(normalize=True)"
   ]
  },
  {
   "cell_type": "markdown",
   "metadata": {},
   "source": [
    "Output/Target Variable seems to be stable as we have almost same number of Records With Yes/No Output.54 % No and 46% Yes."
   ]
  },
  {
   "cell_type": "markdown",
   "metadata": {},
   "source": [
    "Lets Encode the Nominal Categorical Variables. Two Categorical variables: Holliday_Package and foreign"
   ]
  },
  {
   "cell_type": "code",
   "execution_count": 630,
   "metadata": {},
   "outputs": [
    {
     "name": "stdout",
     "output_type": "stream",
     "text": [
      "Holliday_Package\n",
      "no     471\n",
      "yes    401\n",
      "Name: Holliday_Package, dtype: int64\n",
      "\n",
      "\n",
      "foreign\n",
      "no     656\n",
      "yes    216\n",
      "Name: foreign, dtype: int64\n",
      "\n",
      "\n"
     ]
    }
   ],
   "source": [
    "for feature in df_data.columns: \n",
    "    if df_data[feature].dtype == 'object': \n",
    "        print(feature)\n",
    "        print(df_data[feature].value_counts())\n",
    "        print('\\n')\n",
    "        "
   ]
  },
  {
   "cell_type": "markdown",
   "metadata": {},
   "source": [
    "Lets plot the boxplot to get the idea of outliers. We Can see only Salary variable has outliers, which is also continuous variable.Other Variables are either Categorical or Integer, which has valid values."
   ]
  },
  {
   "cell_type": "code",
   "execution_count": 631,
   "metadata": {},
   "outputs": [
    {
     "data": {
      "text/plain": [
       "<matplotlib.axes._subplots.AxesSubplot at 0x1f73c53ce20>"
      ]
     },
     "execution_count": 631,
     "metadata": {},
     "output_type": "execute_result"
    },
    {
     "data": {
      "image/png": "[encoded data removed]",
      "text/plain": [
       "<Figure size 2880x2160 with 1 Axes>"
      ]
     },
     "metadata": {
      "needs_background": "light"
     },
     "output_type": "display_data"
    }
   ],
   "source": [
    "# Boxplot to get the Idea of Outliers\n",
    "plt.figure(figsize=(40,30))\n",
    "df_data.boxplot()"
   ]
  },
  {
   "cell_type": "code",
   "execution_count": 632,
   "metadata": {},
   "outputs": [
    {
     "data": {
      "image/png": "[encoded data removed]",
      "text/plain": [
       "<Figure size 432x288 with 1 Axes>"
      ]
     },
     "metadata": {
      "needs_background": "light"
     },
     "output_type": "display_data"
    },
    {
     "data": {
      "image/png": "[encoded data removed]",
      "text/plain": [
       "<Figure size 432x288 with 1 Axes>"
      ]
     },
     "metadata": {
      "needs_background": "light"
     },
     "output_type": "display_data"
    },
    {
     "data": {
      "image/png": "[encoded data removed]",
      "text/plain": [
       "<Figure size 432x288 with 1 Axes>"
      ]
     },
     "metadata": {
      "needs_background": "light"
     },
     "output_type": "display_data"
    },
    {
     "data": {
      "image/png": "[encoded data removed]",
      "text/plain": [
       "<Figure size 432x288 with 1 Axes>"
      ]
     },
     "metadata": {
      "needs_background": "light"
     },
     "output_type": "display_data"
    },
    {
     "data": {
      "image/png": "[encoded data removed]",
      "text/plain": [
       "<Figure size 432x288 with 1 Axes>"
      ]
     },
     "metadata": {
      "needs_background": "light"
     },
     "output_type": "display_data"
    }
   ],
   "source": [
    "cols = ['Salary', 'age', 'educ', 'no_young_children','no_older_children']\n",
    "for i in cols:\n",
    "    sns.boxplot(df_data[i])\n",
    "    plt.show();"
   ]
  },
  {
   "cell_type": "markdown",
   "metadata": {},
   "source": [
    "'Salary'-> It has Outliers, We will remove it ahead. \n",
    "'age'->No Outliers in this varibale. \n",
    "'educ'-> It seems this variable has 3 Outiers, which seems valid. \n",
    "'no_young_children','no_older_children' have valid Outliers. so we will keep it as it is.\n"
   ]
  },
  {
   "cell_type": "code",
   "execution_count": 633,
   "metadata": {},
   "outputs": [],
   "source": [
    "def remove_outlier(col):\n",
    "    sorted(col)\n",
    "    Q1,Q3=np.percentile(col,[25,75])\n",
    "    IQR=Q3-Q1\n",
    "    lower_range= Q1-(1.5 * IQR)\n",
    "    upper_range= Q3+(1.5 * IQR)\n",
    "    return lower_range, upper_range"
   ]
  },
  {
   "cell_type": "markdown",
   "metadata": {},
   "source": [
    "We will treat outliers only for Salary variable here"
   ]
  },
  {
   "cell_type": "code",
   "execution_count": 634,
   "metadata": {},
   "outputs": [
    {
     "name": "stdout",
     "output_type": "stream",
     "text": [
      "Lower Range : 8105.75 \n",
      "Upper Range : 80687.75\n"
     ]
    }
   ],
   "source": [
    "lr,ur=remove_outlier(df_data['Salary'])\n",
    "print('Lower Range :',lr,'\\nUpper Range :',ur)\n",
    "df_data['Salary']=np.where(df_data['Salary']>ur,ur,df_data['Salary'])\n",
    "df_data['Salary']=np.where(df_data['Salary']<lr,lr,df_data['Salary'])"
   ]
  },
  {
   "cell_type": "markdown",
   "metadata": {},
   "source": [
    "Removal of Outliers Salary Variable can be seen like this."
   ]
  },
  {
   "cell_type": "code",
   "execution_count": 635,
   "metadata": {},
   "outputs": [
    {
     "data": {
      "text/plain": [
       "<matplotlib.axes._subplots.AxesSubplot at 0x1f742f07fa0>"
      ]
     },
     "execution_count": 635,
     "metadata": {},
     "output_type": "execute_result"
    },
    {
     "data": {
      "image/png": "[encoded data removed]",
      "text/plain": [
       "<Figure size 432x288 with 1 Axes>"
      ]
     },
     "metadata": {
      "needs_background": "light"
     },
     "output_type": "display_data"
    }
   ],
   "source": [
    "sns.boxplot(df_data['Salary'])"
   ]
  },
  {
   "cell_type": "markdown",
   "metadata": {},
   "source": [
    "Lets plot the Heatmap, to get the idea of correlation."
   ]
  },
  {
   "cell_type": "code",
   "execution_count": 636,
   "metadata": {},
   "outputs": [
    {
     "data": {
      "image/png": "[encoded data removed]",
      "text/plain": [
       "<Figure size 864x504 with 2 Axes>"
      ]
     },
     "metadata": {
      "needs_background": "light"
     },
     "output_type": "display_data"
    }
   ],
   "source": [
    "plt.figure(figsize=(12,7))\n",
    "sns.heatmap(df_data.corr(), annot=True,mask=np.triu(df_data.corr(),+1));"
   ]
  },
  {
   "cell_type": "code",
   "execution_count": 637,
   "metadata": {},
   "outputs": [
    {
     "data": {
      "image/png": "[encoded data removed]",
      "text/plain": [
       "<Figure size 994.875x900 with 30 Axes>"
      ]
     },
     "metadata": {
      "needs_background": "light"
     },
     "output_type": "display_data"
    }
   ],
   "source": [
    "# Pairplot using sns\n",
    "sns.pairplot(df_data ,diag_kind='kde' ,hue='Holliday_Package');"
   ]
  },
  {
   "cell_type": "markdown",
   "metadata": {},
   "source": [
    "We can see that there is no issue of Multicollinearity,No dependent Variables show Strong Correlation amongst them.Education And Salary has some Relation between them.Lets do some Univariate and Multivariate Analysis and try to get some hidden patterns."
   ]
  },
  {
   "cell_type": "code",
   "execution_count": 638,
   "metadata": {},
   "outputs": [
    {
     "data": {
      "text/plain": [
       "<matplotlib.axes._subplots.AxesSubplot at 0x1f742fcce50>"
      ]
     },
     "execution_count": 638,
     "metadata": {},
     "output_type": "execute_result"
    },
    {
     "data": {
      "image/png": "[encoded data removed]",
      "text/plain": [
       "<Figure size 864x504 with 1 Axes>"
      ]
     },
     "metadata": {
      "needs_background": "light"
     },
     "output_type": "display_data"
    }
   ],
   "source": [
    "plt.figure(figsize=(12,7))\n",
    "sns.distplot(df_data['Salary'])"
   ]
  },
  {
   "cell_type": "markdown",
   "metadata": {},
   "source": [
    "The data is normally distributed almost equally around mean value, so we can say it is similar to Normal Distribution."
   ]
  },
  {
   "cell_type": "markdown",
   "metadata": {},
   "source": [
    "Lets do Bivariate Analysis: \n",
    "\n",
    "1.Salary vs Holiday_Package,\n",
    "\n",
    "2.Salary vs Education ,\n",
    "\n",
    "3.Salary vs Age,\n",
    "\n",
    "4.No of Younge Children vs Holiday Package,\n",
    "\n",
    "5.No of Older Children vs Holiday Package"
   ]
  },
  {
   "cell_type": "code",
   "execution_count": 639,
   "metadata": {},
   "outputs": [
    {
     "data": {
      "text/plain": [
       "<matplotlib.axes._subplots.AxesSubplot at 0x1f742f07460>"
      ]
     },
     "execution_count": 639,
     "metadata": {},
     "output_type": "execute_result"
    },
    {
     "data": {
      "image/png": "[encoded data removed]",
      "text/plain": [
       "<Figure size 864x504 with 1 Axes>"
      ]
     },
     "metadata": {
      "needs_background": "light"
     },
     "output_type": "display_data"
    }
   ],
   "source": [
    "plt.figure(figsize=(12,7))\n",
    "sns.violinplot(df['Holliday_Package'],df['Salary'])"
   ]
  },
  {
   "cell_type": "markdown",
   "metadata": {},
   "source": [
    "Salary above 1,50,000 have always not opted for Holiday Package"
   ]
  },
  {
   "cell_type": "code",
   "execution_count": 640,
   "metadata": {},
   "outputs": [
    {
     "data": {
      "text/plain": [
       "<matplotlib.axes._subplots.AxesSubplot at 0x1f739336d00>"
      ]
     },
     "execution_count": 640,
     "metadata": {},
     "output_type": "execute_result"
    },
    {
     "data": {
      "image/png": "[encoded data removed]",
      "text/plain": [
       "<Figure size 864x504 with 1 Axes>"
      ]
     },
     "metadata": {
      "needs_background": "light"
     },
     "output_type": "display_data"
    }
   ],
   "source": [
    "plt.figure(figsize=(12,7))\n",
    "sns.scatterplot(x='educ',y='Salary',hue='Holliday_Package',data=df)"
   ]
  },
  {
   "cell_type": "code",
   "execution_count": 641,
   "metadata": {},
   "outputs": [
    {
     "data": {
      "text/plain": [
       "<seaborn.axisgrid.FacetGrid at 0x1f7400c8250>"
      ]
     },
     "execution_count": 641,
     "metadata": {},
     "output_type": "execute_result"
    },
    {
     "data": {
      "image/png": "[encoded data removed]",
      "text/plain": [
       "<Figure size 360x360 with 1 Axes>"
      ]
     },
     "metadata": {
      "needs_background": "light"
     },
     "output_type": "display_data"
    }
   ],
   "source": [
    "sns.lmplot(x='educ',y='Salary',data=df)"
   ]
  },
  {
   "cell_type": "code",
   "execution_count": 642,
   "metadata": {},
   "outputs": [
    {
     "data": {
      "text/plain": [
       "<matplotlib.axes._subplots.AxesSubplot at 0x1f73c4f7880>"
      ]
     },
     "execution_count": 642,
     "metadata": {},
     "output_type": "execute_result"
    },
    {
     "data": {
      "image/png": "[encoded data removed]",
      "text/plain": [
       "<Figure size 432x288 with 1 Axes>"
      ]
     },
     "metadata": {
      "needs_background": "light"
     },
     "output_type": "display_data"
    }
   ],
   "source": [
    "sns.scatterplot(x='age',y='Salary',hue='Holliday_Package',data=df)"
   ]
  },
  {
   "cell_type": "code",
   "execution_count": 643,
   "metadata": {},
   "outputs": [
    {
     "data": {
      "text/plain": [
       "<matplotlib.axes._subplots.AxesSubplot at 0x1f739336100>"
      ]
     },
     "execution_count": 643,
     "metadata": {},
     "output_type": "execute_result"
    },
    {
     "data": {
      "image/png": "[encoded data removed]",
      "text/plain": [
       "<Figure size 432x288 with 1 Axes>"
      ]
     },
     "metadata": {
      "needs_background": "light"
     },
     "output_type": "display_data"
    }
   ],
   "source": [
    "sns.scatterplot(x='no_young_children',y='Salary',hue='Holliday_Package',data=df)"
   ]
  },
  {
   "cell_type": "code",
   "execution_count": 652,
   "metadata": {},
   "outputs": [
    {
     "data": {
      "text/plain": [
       "<matplotlib.axes._subplots.AxesSubplot at 0x1f744124b50>"
      ]
     },
     "execution_count": 652,
     "metadata": {},
     "output_type": "execute_result"
    },
    {
     "data": {
      "image/png": "[encoded data removed]",
      "text/plain": [
       "<Figure size 432x288 with 1 Axes>"
      ]
     },
     "metadata": {
      "needs_background": "light"
     },
     "output_type": "display_data"
    }
   ],
   "source": [
    "sns.scatterplot(x='foreign',y='Salary',hue='Holliday_Package',data=df)"
   ]
  },
  {
   "cell_type": "code",
   "execution_count": 645,
   "metadata": {},
   "outputs": [
    {
     "data": {
      "text/plain": [
       "<matplotlib.axes._subplots.AxesSubplot at 0x1f73d4646d0>"
      ]
     },
     "execution_count": 645,
     "metadata": {},
     "output_type": "execute_result"
    },
    {
     "data": {
      "image/png": "[encoded data removed]",
      "text/plain": [
       "<Figure size 432x288 with 1 Axes>"
      ]
     },
     "metadata": {
      "needs_background": "light"
     },
     "output_type": "display_data"
    }
   ],
   "source": [
    "sns.barplot(x='no_older_children',y='Salary',hue='Holliday_Package',data=df)"
   ]
  },
  {
   "cell_type": "code",
   "execution_count": 646,
   "metadata": {},
   "outputs": [
    {
     "data": {
      "text/plain": [
       "<matplotlib.axes._subplots.AxesSubplot at 0x1f738eecc40>"
      ]
     },
     "execution_count": 646,
     "metadata": {},
     "output_type": "execute_result"
    },
    {
     "data": {
      "image/png": "[encoded data removed]",
      "text/plain": [
       "<Figure size 432x288 with 1 Axes>"
      ]
     },
     "metadata": {
      "needs_background": "light"
     },
     "output_type": "display_data"
    }
   ],
   "source": [
    "sns.barplot(x='no_young_children',y='Salary',hue='Holliday_Package',data=df)"
   ]
  },
  {
   "cell_type": "markdown",
   "metadata": {},
   "source": [
    "Most of The Employees get the Salary between 10,000 to 1,00,000. and they are the ones who choosing Holiday_Packages.\n",
    "It can be seen that Salary is High if No of Education years is High."
   ]
  },
  {
   "cell_type": "markdown",
   "metadata": {},
   "source": [
    "Very few Datapoints can suggest that Salary is Increasing with Age. Age group 20-60 Shows Almost Similar pattern in terms of Salary.Employee age over 50 to 60 have seems to be not taking the holiday package."
   ]
  },
  {
   "cell_type": "markdown",
   "metadata": {},
   "source": [
    "#### 2.2 Do not scale the data. Encode the data (having string values) for Modelling. Data Split: Split the data into train and test (70:30). Apply Logistic Regression and LDA (linear discriminant analysis)."
   ]
  },
  {
   "cell_type": "code",
   "execution_count": 647,
   "metadata": {},
   "outputs": [
    {
     "name": "stdout",
     "output_type": "stream",
     "text": [
      "\n",
      "\n",
      "feature: Holliday_Package\n",
      "[no, yes]\n",
      "Categories (2, object): [no, yes]\n",
      "[0 1]\n",
      "\n",
      "\n",
      "feature: foreign\n",
      "[no, yes]\n",
      "Categories (2, object): [no, yes]\n",
      "[0 1]\n"
     ]
    }
   ],
   "source": [
    "# Converting all objects to categorical codes\n",
    "for feature in df_data.columns: \n",
    "    if df_data[feature].dtype == 'object': \n",
    "        print('\\n')\n",
    "        print('feature:',feature)\n",
    "        print(pd.Categorical(df_data[feature].unique()))\n",
    "        print(pd.Categorical(df_data[feature].unique()).codes)\n",
    "        df_data[feature] = pd.Categorical(df_data[feature]).codes"
   ]
  },
  {
   "cell_type": "code",
   "execution_count": 648,
   "metadata": {},
   "outputs": [
    {
     "data": {
      "text/html": [
       "<div>\n",
       "<style scoped>\n",
       "    .dataframe tbody tr th:only-of-type {\n",
       "        vertical-align: middle;\n",
       "    }\n",
       "\n",
       "    .dataframe tbody tr th {\n",
       "        vertical-align: top;\n",
       "    }\n",
       "\n",
       "    .dataframe thead th {\n",
       "        text-align: right;\n",
       "    }\n",
       "</style>\n",
       "<table border=\"1\" class=\"dataframe\">\n",
       "  <thead>\n",
       "    <tr style=\"text-align: right;\">\n",
       "      <th></th>\n",
       "      <th>Holliday_Package</th>\n",
       "      <th>Salary</th>\n",
       "      <th>age</th>\n",
       "      <th>educ</th>\n",
       "      <th>no_young_children</th>\n",
       "      <th>no_older_children</th>\n",
       "      <th>foreign</th>\n",
       "    </tr>\n",
       "  </thead>\n",
       "  <tbody>\n",
       "    <tr>\n",
       "      <th>0</th>\n",
       "      <td>0</td>\n",
       "      <td>48412.0</td>\n",
       "      <td>30</td>\n",
       "      <td>8</td>\n",
       "      <td>1</td>\n",
       "      <td>1</td>\n",
       "      <td>0</td>\n",
       "    </tr>\n",
       "    <tr>\n",
       "      <th>1</th>\n",
       "      <td>1</td>\n",
       "      <td>37207.0</td>\n",
       "      <td>45</td>\n",
       "      <td>8</td>\n",
       "      <td>0</td>\n",
       "      <td>1</td>\n",
       "      <td>0</td>\n",
       "    </tr>\n",
       "    <tr>\n",
       "      <th>2</th>\n",
       "      <td>0</td>\n",
       "      <td>58022.0</td>\n",
       "      <td>46</td>\n",
       "      <td>9</td>\n",
       "      <td>0</td>\n",
       "      <td>0</td>\n",
       "      <td>0</td>\n",
       "    </tr>\n",
       "    <tr>\n",
       "      <th>3</th>\n",
       "      <td>0</td>\n",
       "      <td>66503.0</td>\n",
       "      <td>31</td>\n",
       "      <td>11</td>\n",
       "      <td>2</td>\n",
       "      <td>0</td>\n",
       "      <td>0</td>\n",
       "    </tr>\n",
       "    <tr>\n",
       "      <th>4</th>\n",
       "      <td>0</td>\n",
       "      <td>66734.0</td>\n",
       "      <td>44</td>\n",
       "      <td>12</td>\n",
       "      <td>0</td>\n",
       "      <td>2</td>\n",
       "      <td>0</td>\n",
       "    </tr>\n",
       "  </tbody>\n",
       "</table>\n",
       "</div>"
      ],
      "text/plain": [
       "   Holliday_Package   Salary  age  educ  no_young_children  no_older_children  \\\n",
       "0                 0  48412.0   30     8                  1                  1   \n",
       "1                 1  37207.0   45     8                  0                  1   \n",
       "2                 0  58022.0   46     9                  0                  0   \n",
       "3                 0  66503.0   31    11                  2                  0   \n",
       "4                 0  66734.0   44    12                  0                  2   \n",
       "\n",
       "   foreign  \n",
       "0        0  \n",
       "1        0  \n",
       "2        0  \n",
       "3        0  \n",
       "4        0  "
      ]
     },
     "execution_count": 648,
     "metadata": {},
     "output_type": "execute_result"
    }
   ],
   "source": [
    "df_data.head()"
   ]
  },
  {
   "cell_type": "code",
   "execution_count": 653,
   "metadata": {},
   "outputs": [],
   "source": [
    "## Cleaning the coulmn names\n",
    "df_data.columns = df_data.columns.str.replace('Holliday_Package', 'Holiday_Package')\n",
    "df_data.columns = df_data.columns.str.replace('age', 'age')\n",
    "df_data.columns = df_data.columns.str.replace('educ', 'Education')\n",
    "df_data.columns = df_data.columns.str.replace('foreign', 'Foreigner')"
   ]
  },
  {
   "cell_type": "code",
   "execution_count": 654,
   "metadata": {},
   "outputs": [
    {
     "data": {
      "text/html": [
       "<div>\n",
       "<style scoped>\n",
       "    .dataframe tbody tr th:only-of-type {\n",
       "        vertical-align: middle;\n",
       "    }\n",
       "\n",
       "    .dataframe tbody tr th {\n",
       "        vertical-align: top;\n",
       "    }\n",
       "\n",
       "    .dataframe thead th {\n",
       "        text-align: right;\n",
       "    }\n",
       "</style>\n",
       "<table border=\"1\" class=\"dataframe\">\n",
       "  <thead>\n",
       "    <tr style=\"text-align: right;\">\n",
       "      <th></th>\n",
       "      <th>Holiday_Package</th>\n",
       "      <th>Salary</th>\n",
       "      <th>age</th>\n",
       "      <th>Education</th>\n",
       "      <th>no_young_children</th>\n",
       "      <th>no_older_children</th>\n",
       "      <th>Foreigner</th>\n",
       "    </tr>\n",
       "  </thead>\n",
       "  <tbody>\n",
       "    <tr>\n",
       "      <th>0</th>\n",
       "      <td>0</td>\n",
       "      <td>48412.0</td>\n",
       "      <td>30</td>\n",
       "      <td>8</td>\n",
       "      <td>1</td>\n",
       "      <td>1</td>\n",
       "      <td>0</td>\n",
       "    </tr>\n",
       "    <tr>\n",
       "      <th>1</th>\n",
       "      <td>1</td>\n",
       "      <td>37207.0</td>\n",
       "      <td>45</td>\n",
       "      <td>8</td>\n",
       "      <td>0</td>\n",
       "      <td>1</td>\n",
       "      <td>0</td>\n",
       "    </tr>\n",
       "    <tr>\n",
       "      <th>2</th>\n",
       "      <td>0</td>\n",
       "      <td>58022.0</td>\n",
       "      <td>46</td>\n",
       "      <td>9</td>\n",
       "      <td>0</td>\n",
       "      <td>0</td>\n",
       "      <td>0</td>\n",
       "    </tr>\n",
       "    <tr>\n",
       "      <th>3</th>\n",
       "      <td>0</td>\n",
       "      <td>66503.0</td>\n",
       "      <td>31</td>\n",
       "      <td>11</td>\n",
       "      <td>2</td>\n",
       "      <td>0</td>\n",
       "      <td>0</td>\n",
       "    </tr>\n",
       "    <tr>\n",
       "      <th>4</th>\n",
       "      <td>0</td>\n",
       "      <td>66734.0</td>\n",
       "      <td>44</td>\n",
       "      <td>12</td>\n",
       "      <td>0</td>\n",
       "      <td>2</td>\n",
       "      <td>0</td>\n",
       "    </tr>\n",
       "  </tbody>\n",
       "</table>\n",
       "</div>"
      ],
      "text/plain": [
       "   Holiday_Package   Salary  age  Education  no_young_children  \\\n",
       "0                0  48412.0   30          8                  1   \n",
       "1                1  37207.0   45          8                  0   \n",
       "2                0  58022.0   46          9                  0   \n",
       "3                0  66503.0   31         11                  2   \n",
       "4                0  66734.0   44         12                  0   \n",
       "\n",
       "   no_older_children  Foreigner  \n",
       "0                  1          0  \n",
       "1                  1          0  \n",
       "2                  0          0  \n",
       "3                  0          0  \n",
       "4                  2          0  "
      ]
     },
     "execution_count": 654,
     "metadata": {},
     "output_type": "execute_result"
    }
   ],
   "source": [
    "df_data.head()"
   ]
  },
  {
   "cell_type": "code",
   "execution_count": 655,
   "metadata": {},
   "outputs": [
    {
     "name": "stdout",
     "output_type": "stream",
     "text": [
      "<class 'pandas.core.frame.DataFrame'>\n",
      "RangeIndex: 872 entries, 0 to 871\n",
      "Data columns (total 7 columns):\n",
      " #   Column             Non-Null Count  Dtype  \n",
      "---  ------             --------------  -----  \n",
      " 0   Holiday_Package    872 non-null    int8   \n",
      " 1   Salary             872 non-null    float64\n",
      " 2   age                872 non-null    int64  \n",
      " 3   Education          872 non-null    int64  \n",
      " 4   no_young_children  872 non-null    int64  \n",
      " 5   no_older_children  872 non-null    int64  \n",
      " 6   Foreigner          872 non-null    int8   \n",
      "dtypes: float64(1), int64(4), int8(2)\n",
      "memory usage: 35.9 KB\n"
     ]
    }
   ],
   "source": [
    "df_data.info()"
   ]
  },
  {
   "cell_type": "code",
   "execution_count": 656,
   "metadata": {},
   "outputs": [
    {
     "data": {
      "text/plain": [
       "Index(['Holiday_Package', 'Salary', 'age', 'Education', 'no_young_children',\n",
       "       'no_older_children', 'Foreigner'],\n",
       "      dtype='object')"
      ]
     },
     "execution_count": 656,
     "metadata": {},
     "output_type": "execute_result"
    }
   ],
   "source": [
    "# Variance Inflation Factor (VIF): Checking for Multicollinearity\n",
    "df_data.columns"
   ]
  },
  {
   "cell_type": "code",
   "execution_count": 657,
   "metadata": {},
   "outputs": [],
   "source": [
    "Z= df_data[['Salary','age', 'Education', 'no_young_children', 'no_older_children', 'Foreigner']]"
   ]
  },
  {
   "cell_type": "code",
   "execution_count": 658,
   "metadata": {},
   "outputs": [
    {
     "data": {
      "text/html": [
       "<div>\n",
       "<style scoped>\n",
       "    .dataframe tbody tr th:only-of-type {\n",
       "        vertical-align: middle;\n",
       "    }\n",
       "\n",
       "    .dataframe tbody tr th {\n",
       "        vertical-align: top;\n",
       "    }\n",
       "\n",
       "    .dataframe thead th {\n",
       "        text-align: right;\n",
       "    }\n",
       "</style>\n",
       "<table border=\"1\" class=\"dataframe\">\n",
       "  <thead>\n",
       "    <tr style=\"text-align: right;\">\n",
       "      <th></th>\n",
       "      <th>Salary</th>\n",
       "      <th>age</th>\n",
       "      <th>Education</th>\n",
       "      <th>no_young_children</th>\n",
       "      <th>no_older_children</th>\n",
       "      <th>Foreigner</th>\n",
       "    </tr>\n",
       "  </thead>\n",
       "  <tbody>\n",
       "    <tr>\n",
       "      <th>0</th>\n",
       "      <td>48412.0</td>\n",
       "      <td>30</td>\n",
       "      <td>8</td>\n",
       "      <td>1</td>\n",
       "      <td>1</td>\n",
       "      <td>0</td>\n",
       "    </tr>\n",
       "    <tr>\n",
       "      <th>1</th>\n",
       "      <td>37207.0</td>\n",
       "      <td>45</td>\n",
       "      <td>8</td>\n",
       "      <td>0</td>\n",
       "      <td>1</td>\n",
       "      <td>0</td>\n",
       "    </tr>\n",
       "    <tr>\n",
       "      <th>2</th>\n",
       "      <td>58022.0</td>\n",
       "      <td>46</td>\n",
       "      <td>9</td>\n",
       "      <td>0</td>\n",
       "      <td>0</td>\n",
       "      <td>0</td>\n",
       "    </tr>\n",
       "    <tr>\n",
       "      <th>3</th>\n",
       "      <td>66503.0</td>\n",
       "      <td>31</td>\n",
       "      <td>11</td>\n",
       "      <td>2</td>\n",
       "      <td>0</td>\n",
       "      <td>0</td>\n",
       "    </tr>\n",
       "    <tr>\n",
       "      <th>4</th>\n",
       "      <td>66734.0</td>\n",
       "      <td>44</td>\n",
       "      <td>12</td>\n",
       "      <td>0</td>\n",
       "      <td>2</td>\n",
       "      <td>0</td>\n",
       "    </tr>\n",
       "    <tr>\n",
       "      <th>...</th>\n",
       "      <td>...</td>\n",
       "      <td>...</td>\n",
       "      <td>...</td>\n",
       "      <td>...</td>\n",
       "      <td>...</td>\n",
       "      <td>...</td>\n",
       "    </tr>\n",
       "    <tr>\n",
       "      <th>867</th>\n",
       "      <td>40030.0</td>\n",
       "      <td>24</td>\n",
       "      <td>4</td>\n",
       "      <td>2</td>\n",
       "      <td>1</td>\n",
       "      <td>1</td>\n",
       "    </tr>\n",
       "    <tr>\n",
       "      <th>868</th>\n",
       "      <td>32137.0</td>\n",
       "      <td>48</td>\n",
       "      <td>8</td>\n",
       "      <td>0</td>\n",
       "      <td>0</td>\n",
       "      <td>1</td>\n",
       "    </tr>\n",
       "    <tr>\n",
       "      <th>869</th>\n",
       "      <td>25178.0</td>\n",
       "      <td>24</td>\n",
       "      <td>6</td>\n",
       "      <td>2</td>\n",
       "      <td>0</td>\n",
       "      <td>1</td>\n",
       "    </tr>\n",
       "    <tr>\n",
       "      <th>870</th>\n",
       "      <td>55958.0</td>\n",
       "      <td>41</td>\n",
       "      <td>10</td>\n",
       "      <td>0</td>\n",
       "      <td>1</td>\n",
       "      <td>1</td>\n",
       "    </tr>\n",
       "    <tr>\n",
       "      <th>871</th>\n",
       "      <td>74659.0</td>\n",
       "      <td>51</td>\n",
       "      <td>10</td>\n",
       "      <td>0</td>\n",
       "      <td>0</td>\n",
       "      <td>1</td>\n",
       "    </tr>\n",
       "  </tbody>\n",
       "</table>\n",
       "<p>872 rows × 6 columns</p>\n",
       "</div>"
      ],
      "text/plain": [
       "      Salary  age  Education  no_young_children  no_older_children  Foreigner\n",
       "0    48412.0   30          8                  1                  1          0\n",
       "1    37207.0   45          8                  0                  1          0\n",
       "2    58022.0   46          9                  0                  0          0\n",
       "3    66503.0   31         11                  2                  0          0\n",
       "4    66734.0   44         12                  0                  2          0\n",
       "..       ...  ...        ...                ...                ...        ...\n",
       "867  40030.0   24          4                  2                  1          1\n",
       "868  32137.0   48          8                  0                  0          1\n",
       "869  25178.0   24          6                  2                  0          1\n",
       "870  55958.0   41         10                  0                  1          1\n",
       "871  74659.0   51         10                  0                  0          1\n",
       "\n",
       "[872 rows x 6 columns]"
      ]
     },
     "execution_count": 658,
     "metadata": {},
     "output_type": "execute_result"
    }
   ],
   "source": [
    "Z"
   ]
  },
  {
   "cell_type": "markdown",
   "metadata": {},
   "source": [
    "VIF Calculation:"
   ]
  },
  {
   "cell_type": "code",
   "execution_count": 659,
   "metadata": {},
   "outputs": [],
   "source": [
    "import statsmodels.formula.api as sm"
   ]
  },
  {
   "cell_type": "code",
   "execution_count": 660,
   "metadata": {},
   "outputs": [],
   "source": [
    "def vif_cal(Z):\n",
    "    x_var =Z\n",
    "    xvar_names = Z.columns\n",
    "    vif = pd.DataFrame()\n",
    "    for i in range(0, xvar_names.shape[0]):\n",
    "        y=x_var[xvar_names[i]]\n",
    "        x = x_var[xvar_names.drop(xvar_names[i])]\n",
    "        rsq =sm.ols(formula =\"y~x\", data =x_var).fit().rsquared\n",
    "        vif = round(1/(1-rsq),2)\n",
    "        print(xvar_names[i], 'VIF = ' , vif)"
   ]
  },
  {
   "cell_type": "code",
   "execution_count": 661,
   "metadata": {},
   "outputs": [
    {
     "name": "stdout",
     "output_type": "stream",
     "text": [
      "Salary VIF =  1.2\n",
      "age VIF =  1.56\n",
      "Education VIF =  1.41\n",
      "no_young_children VIF =  1.57\n",
      "no_older_children VIF =  1.19\n",
      "Foreigner VIF =  1.27\n"
     ]
    }
   ],
   "source": [
    "vif_cal(Z= df_data[['Salary','age', 'Education', 'no_young_children', 'no_older_children', 'Foreigner']])"
   ]
  },
  {
   "cell_type": "markdown",
   "metadata": {},
   "source": [
    "VIF is less than 4, Hence all Dependent Variables dont show much multicollinearity."
   ]
  },
  {
   "cell_type": "markdown",
   "metadata": {},
   "source": [
    "Train and Test Split"
   ]
  },
  {
   "cell_type": "code",
   "execution_count": 662,
   "metadata": {},
   "outputs": [],
   "source": [
    "# Train Test Split\n",
    "# Copy all the predictor variables into X dataframe\n",
    "X = df_data.drop('Holiday_Package', axis=1)\n",
    "\n",
    "# Copy target into the y dataframe. \n",
    "y = df_data['Holiday_Package']"
   ]
  },
  {
   "cell_type": "code",
   "execution_count": 663,
   "metadata": {},
   "outputs": [],
   "source": [
    "# Split X and y into training and test set in 70:30 ratio\n",
    "X_train_lr, X_test_lr, y_train_lr, y_test_lr = train_test_split(X, y, test_size=0.30 , random_state=1,stratify=y)"
   ]
  },
  {
   "cell_type": "code",
   "execution_count": 664,
   "metadata": {},
   "outputs": [
    {
     "data": {
      "text/plain": [
       "0    0.539344\n",
       "1    0.460656\n",
       "Name: Holiday_Package, dtype: float64"
      ]
     },
     "execution_count": 664,
     "metadata": {},
     "output_type": "execute_result"
    }
   ],
   "source": [
    "y_train_lr.value_counts(1)"
   ]
  },
  {
   "cell_type": "code",
   "execution_count": 665,
   "metadata": {},
   "outputs": [
    {
     "data": {
      "text/plain": [
       "0    0.541985\n",
       "1    0.458015\n",
       "Name: Holiday_Package, dtype: float64"
      ]
     },
     "execution_count": 665,
     "metadata": {},
     "output_type": "execute_result"
    }
   ],
   "source": [
    "y_test_lr.value_counts(1)"
   ]
  },
  {
   "cell_type": "markdown",
   "metadata": {},
   "source": [
    "##### Apply Logistic Regression"
   ]
  },
  {
   "cell_type": "code",
   "execution_count": 666,
   "metadata": {},
   "outputs": [
    {
     "name": "stderr",
     "output_type": "stream",
     "text": [
      "[Parallel(n_jobs=2)]: Using backend LokyBackend with 2 concurrent workers.\n",
      "[Parallel(n_jobs=2)]: Done   1 out of   1 | elapsed:   32.5s finished\n"
     ]
    },
    {
     "data": {
      "text/plain": [
       "LogisticRegression(max_iter=10000, n_jobs=2, penalty='none', solver='newton-cg',\n",
       "                   verbose=True)"
      ]
     },
     "execution_count": 666,
     "metadata": {},
     "output_type": "execute_result"
    }
   ],
   "source": [
    "# Fit the Logistic Regression model\n",
    "model = LogisticRegression(solver='newton-cg',max_iter=10000,penalty='none',verbose=True,n_jobs=2)\n",
    "model.fit(X_train_lr, y_train_lr)"
   ]
  },
  {
   "cell_type": "code",
   "execution_count": 667,
   "metadata": {},
   "outputs": [],
   "source": [
    "# Predicting on Training and Test dataset\n",
    "ytrain_predict_lr = model.predict(X_train_lr)\n",
    "ytest_predict_lr = model.predict(X_test_lr)"
   ]
  },
  {
   "cell_type": "code",
   "execution_count": 668,
   "metadata": {},
   "outputs": [
    {
     "data": {
      "text/html": [
       "<div>\n",
       "<style scoped>\n",
       "    .dataframe tbody tr th:only-of-type {\n",
       "        vertical-align: middle;\n",
       "    }\n",
       "\n",
       "    .dataframe tbody tr th {\n",
       "        vertical-align: top;\n",
       "    }\n",
       "\n",
       "    .dataframe thead th {\n",
       "        text-align: right;\n",
       "    }\n",
       "</style>\n",
       "<table border=\"1\" class=\"dataframe\">\n",
       "  <thead>\n",
       "    <tr style=\"text-align: right;\">\n",
       "      <th></th>\n",
       "      <th>0</th>\n",
       "      <th>1</th>\n",
       "    </tr>\n",
       "  </thead>\n",
       "  <tbody>\n",
       "    <tr>\n",
       "      <th>0</th>\n",
       "      <td>0.677845</td>\n",
       "      <td>0.322155</td>\n",
       "    </tr>\n",
       "    <tr>\n",
       "      <th>1</th>\n",
       "      <td>0.534493</td>\n",
       "      <td>0.465507</td>\n",
       "    </tr>\n",
       "    <tr>\n",
       "      <th>2</th>\n",
       "      <td>0.691845</td>\n",
       "      <td>0.308155</td>\n",
       "    </tr>\n",
       "    <tr>\n",
       "      <th>3</th>\n",
       "      <td>0.487745</td>\n",
       "      <td>0.512255</td>\n",
       "    </tr>\n",
       "    <tr>\n",
       "      <th>4</th>\n",
       "      <td>0.571939</td>\n",
       "      <td>0.428061</td>\n",
       "    </tr>\n",
       "  </tbody>\n",
       "</table>\n",
       "</div>"
      ],
      "text/plain": [
       "          0         1\n",
       "0  0.677845  0.322155\n",
       "1  0.534493  0.465507\n",
       "2  0.691845  0.308155\n",
       "3  0.487745  0.512255\n",
       "4  0.571939  0.428061"
      ]
     },
     "execution_count": 668,
     "metadata": {},
     "output_type": "execute_result"
    }
   ],
   "source": [
    "# Getting the Predicted Classes and Probs\n",
    "ytest_predict_prob_lr=model.predict_proba(X_test_lr)\n",
    "pd.DataFrame(ytest_predict_prob_lr).head()"
   ]
  },
  {
   "cell_type": "markdown",
   "metadata": {},
   "source": [
    "#### Apply Linear Discriminant Analysis"
   ]
  },
  {
   "cell_type": "code",
   "execution_count": 669,
   "metadata": {},
   "outputs": [],
   "source": [
    "# Note: The Below Lines are Commented as dont Run both Algorithms Simulteneously, First Run Logistic Regression and See its Metrics \n",
    "# Then Run LDA and find its Performance Metrics"
   ]
  },
  {
   "cell_type": "code",
   "execution_count": 670,
   "metadata": {},
   "outputs": [],
   "source": [
    "# Split X and y into training and test set in 70:30 ratio\n",
    "# X_train_lda, X_test_lda, y_train_lda, y_test_lda = train_test_split(X, y, test_size=0.30 , random_state=1,stratify=y)"
   ]
  },
  {
   "cell_type": "code",
   "execution_count": 671,
   "metadata": {},
   "outputs": [],
   "source": [
    "# y_train_lda.value_counts(1)"
   ]
  },
  {
   "cell_type": "code",
   "execution_count": 672,
   "metadata": {},
   "outputs": [],
   "source": [
    "# y_test_lda.value_counts(1)"
   ]
  },
  {
   "cell_type": "code",
   "execution_count": 673,
   "metadata": {},
   "outputs": [],
   "source": [
    "#Build LDA Model\n",
    "clf = LinearDiscriminantAnalysis()\n",
    "model=clf.fit(X_train_lda,y_train_lda)"
   ]
  },
  {
   "cell_type": "markdown",
   "metadata": {},
   "source": [
    "##### 2.3 Performance Metrics: Check the performance of Predictions on Train and Test sets using Accuracy, Confusion Matrix, Plot ROC curve and get ROC_AUC score for each model Final Model: Compare Both the models and write inference which model is best/optimized."
   ]
  },
  {
   "cell_type": "markdown",
   "metadata": {},
   "source": [
    "#### Performance Metrics Logistic Regression:"
   ]
  },
  {
   "cell_type": "code",
   "execution_count": 674,
   "metadata": {},
   "outputs": [],
   "source": [
    "# Accuracy - Training Data\n",
    "lr_train_acc=model.score(X_train_lr, y_train_lr)"
   ]
  },
  {
   "cell_type": "code",
   "execution_count": 675,
   "metadata": {},
   "outputs": [
    {
     "name": "stdout",
     "output_type": "stream",
     "text": [
      "AUC: 0.714\n"
     ]
    },
    {
     "data": {
      "image/png": "[encoded data removed]",
      "text/plain": [
       "<Figure size 432x288 with 1 Axes>"
      ]
     },
     "metadata": {
      "needs_background": "light"
     },
     "output_type": "display_data"
    }
   ],
   "source": [
    "# AUC and ROC for the training data\n",
    "# predict probabilities\n",
    "probs = model.predict_proba(X_train_lr)\n",
    "# keep probabilities for the positive outcome only\n",
    "probs = probs[:, 1]\n",
    "# calculate AUC\n",
    "lr_train_auc = roc_auc_score(y_train_lr, probs)\n",
    "print('AUC: %.3f' % auc)\n",
    "# calculate roc curve\n",
    "train_fpr, train_tpr, train_thresholds = roc_curve(y_train_lr, probs)\n",
    "plt.plot([0, 1], [0, 1], linestyle='--')\n",
    "# plot the roc curve for the model\n",
    "plt.plot(train_fpr, train_tpr);"
   ]
  },
  {
   "cell_type": "code",
   "execution_count": 676,
   "metadata": {},
   "outputs": [],
   "source": [
    "# Accuracy - Test Data\n",
    "lr_test_acc=model.score(X_test_lr, y_test_lr)"
   ]
  },
  {
   "cell_type": "code",
   "execution_count": 677,
   "metadata": {},
   "outputs": [
    {
     "name": "stdout",
     "output_type": "stream",
     "text": [
      "AUC: 0.715\n"
     ]
    },
    {
     "data": {
      "image/png": "[encoded data removed]",
      "text/plain": [
       "<Figure size 432x288 with 1 Axes>"
      ]
     },
     "metadata": {
      "needs_background": "light"
     },
     "output_type": "display_data"
    }
   ],
   "source": [
    "# AUC and ROC for the test data\n",
    "# predict probabilities\n",
    "probs = model.predict_proba(X_test_lr)\n",
    "# keep probabilities for the positive outcome only\n",
    "probs = probs[:, 1]\n",
    "# calculate AUC\n",
    "lr_test_auc = roc_auc_score(y_test_lr, probs)\n",
    "print('AUC: %.3f' % lr_test_auc)\n",
    "# calculate roc curve\n",
    "test_fpr, test_tpr, test_thresholds = roc_curve(y_test_lr, probs)\n",
    "plt.plot([0, 1], [0, 1], linestyle='--')\n",
    "# plot the roc curve for the model\n",
    "plt.plot(test_fpr, test_tpr);"
   ]
  },
  {
   "cell_type": "code",
   "execution_count": 678,
   "metadata": {},
   "outputs": [],
   "source": [
    "# Confusion Matrix for the training data"
   ]
  },
  {
   "cell_type": "code",
   "execution_count": 679,
   "metadata": {},
   "outputs": [
    {
     "data": {
      "text/plain": [
       "array([[244,  85],\n",
       "       [118, 163]], dtype=int64)"
      ]
     },
     "execution_count": 679,
     "metadata": {},
     "output_type": "execute_result"
    }
   ],
   "source": [
    "confusion_matrix(y_train_lr, ytrain_predict_lr)"
   ]
  },
  {
   "cell_type": "code",
   "execution_count": 680,
   "metadata": {},
   "outputs": [
    {
     "data": {
      "image/png": "[encoded data removed]",
      "text/plain": [
       "<Figure size 432x288 with 2 Axes>"
      ]
     },
     "metadata": {
      "needs_background": "light"
     },
     "output_type": "display_data"
    }
   ],
   "source": [
    "plot_confusion_matrix(model,X_train_lr,y_train_lr);"
   ]
  },
  {
   "cell_type": "code",
   "execution_count": 681,
   "metadata": {},
   "outputs": [
    {
     "name": "stdout",
     "output_type": "stream",
     "text": [
      "              precision    recall  f1-score   support\n",
      "\n",
      "           0       0.67      0.74      0.71       329\n",
      "           1       0.66      0.58      0.62       281\n",
      "\n",
      "    accuracy                           0.67       610\n",
      "   macro avg       0.67      0.66      0.66       610\n",
      "weighted avg       0.67      0.67      0.66       610\n",
      "\n"
     ]
    }
   ],
   "source": [
    "print(classification_report(y_train_lr, ytrain_predict_lr))"
   ]
  },
  {
   "cell_type": "code",
   "execution_count": 682,
   "metadata": {},
   "outputs": [
    {
     "name": "stdout",
     "output_type": "stream",
     "text": [
      "lr_train_precision  0.66\n",
      "lr_train_recall  0.58\n",
      "lr_train_f1  0.62\n"
     ]
    }
   ],
   "source": [
    "# Logistic Regression Metrics Training Data\n",
    "lr_metrics_train=classification_report(y_train_lr, ytrain_predict_lr,output_dict=True)\n",
    "df=pd.DataFrame(lr_metrics_train).transpose()\n",
    "lr_train_f1=round(df.loc[\"1\"][2],2)\n",
    "lr_train_recall=round(df.loc[\"1\"][1],2)\n",
    "lr_train_precision=round(df.loc[\"1\"][0],2)\n",
    "print ('lr_train_precision ',lr_train_precision)\n",
    "print ('lr_train_recall ',lr_train_recall)\n",
    "print ('lr_train_f1 ',lr_train_f1)"
   ]
  },
  {
   "cell_type": "code",
   "execution_count": 683,
   "metadata": {},
   "outputs": [
    {
     "data": {
      "text/plain": [
       "array([[108,  34],\n",
       "       [ 58,  62]], dtype=int64)"
      ]
     },
     "execution_count": 683,
     "metadata": {},
     "output_type": "execute_result"
    }
   ],
   "source": [
    "# Confusion Matrix for test data\n",
    "confusion_matrix(y_test_lr, ytest_predict_lr)"
   ]
  },
  {
   "cell_type": "code",
   "execution_count": 684,
   "metadata": {},
   "outputs": [
    {
     "data": {
      "image/png": "[encoded data removed]",
      "text/plain": [
       "<Figure size 432x288 with 2 Axes>"
      ]
     },
     "metadata": {
      "needs_background": "light"
     },
     "output_type": "display_data"
    }
   ],
   "source": [
    "plot_confusion_matrix(model,X_test_lr,y_test_lr);"
   ]
  },
  {
   "cell_type": "code",
   "execution_count": 685,
   "metadata": {},
   "outputs": [
    {
     "name": "stdout",
     "output_type": "stream",
     "text": [
      "              precision    recall  f1-score   support\n",
      "\n",
      "           0       0.65      0.76      0.70       142\n",
      "           1       0.65      0.52      0.57       120\n",
      "\n",
      "    accuracy                           0.65       262\n",
      "   macro avg       0.65      0.64      0.64       262\n",
      "weighted avg       0.65      0.65      0.64       262\n",
      "\n"
     ]
    }
   ],
   "source": [
    "# Test Data Classification report for Logistic Regression\n",
    "print(classification_report(y_test_lr, ytest_predict_lr))"
   ]
  },
  {
   "cell_type": "code",
   "execution_count": 686,
   "metadata": {},
   "outputs": [
    {
     "name": "stdout",
     "output_type": "stream",
     "text": [
      "lr_test_precision  0.65\n",
      "lr_test_recall  0.52\n",
      "lr_test_f1  0.57\n"
     ]
    }
   ],
   "source": [
    "# Logistic Regression Test data Metrics\n",
    "lr_metrics_test=classification_report(y_test_lr, ytest_predict_lr,output_dict=True)\n",
    "df=pd.DataFrame(lr_metrics_test).transpose()\n",
    "lr_test_precision=round(df.loc[\"1\"][0],2)\n",
    "lr_test_recall=round(df.loc[\"1\"][1],2)\n",
    "lr_test_f1=round(df.loc[\"1\"][2],2)\n",
    "print ('lr_test_precision ',lr_test_precision)\n",
    "print ('lr_test_recall ',lr_test_recall)\n",
    "print ('lr_test_f1 ',lr_test_f1)"
   ]
  },
  {
   "cell_type": "code",
   "execution_count": 687,
   "metadata": {},
   "outputs": [],
   "source": [
    "# Applying GridSearchCV for Logistic Regression\n",
    "grid={'penalty':['l2','none'],\n",
    "      'solver':['newton-cg','lbfgs','liblinear'],\n",
    "      'tol':[0.0001,0.00001]}"
   ]
  },
  {
   "cell_type": "code",
   "execution_count": 688,
   "metadata": {},
   "outputs": [],
   "source": [
    "model = LogisticRegression(max_iter=10000,n_jobs=2)"
   ]
  },
  {
   "cell_type": "code",
   "execution_count": 689,
   "metadata": {},
   "outputs": [],
   "source": [
    "grid_search = GridSearchCV(estimator = model, param_grid = grid, cv = 3,n_jobs=-1,scoring='f1')\n",
    "## Scoring - Strategy to evaluate the performance of the cross-validated model on the test set."
   ]
  },
  {
   "cell_type": "code",
   "execution_count": 690,
   "metadata": {},
   "outputs": [
    {
     "data": {
      "text/plain": [
       "GridSearchCV(cv=3, estimator=LogisticRegression(max_iter=10000, n_jobs=2),\n",
       "             n_jobs=-1,\n",
       "             param_grid={'penalty': ['l2', 'none'],\n",
       "                         'solver': ['newton-cg', 'lbfgs', 'liblinear'],\n",
       "                         'tol': [0.0001, 1e-05]},\n",
       "             scoring='f1')"
      ]
     },
     "execution_count": 690,
     "metadata": {},
     "output_type": "execute_result"
    }
   ],
   "source": [
    "grid_search.fit(X_train_lr, y_train_lr)"
   ]
  },
  {
   "cell_type": "code",
   "execution_count": 691,
   "metadata": {},
   "outputs": [
    {
     "name": "stdout",
     "output_type": "stream",
     "text": [
      "{'penalty': 'none', 'solver': 'newton-cg', 'tol': 0.0001} \n",
      "\n",
      "LogisticRegression(max_iter=10000, n_jobs=2, penalty='none', solver='newton-cg')\n"
     ]
    }
   ],
   "source": [
    "print(grid_search.best_params_,'\\n')\n",
    "print(grid_search.best_estimator_)"
   ]
  },
  {
   "cell_type": "code",
   "execution_count": 692,
   "metadata": {},
   "outputs": [],
   "source": [
    "best_model = grid_search.best_estimator_"
   ]
  },
  {
   "cell_type": "code",
   "execution_count": 693,
   "metadata": {},
   "outputs": [],
   "source": [
    "# Prediction on the training set\n",
    "\n",
    "ytrain_predict_lr = best_model.predict(X_train_lr)\n",
    "ytest_predict_lr = best_model.predict(X_test_lr)"
   ]
  },
  {
   "cell_type": "code",
   "execution_count": 694,
   "metadata": {},
   "outputs": [
    {
     "data": {
      "text/html": [
       "<div>\n",
       "<style scoped>\n",
       "    .dataframe tbody tr th:only-of-type {\n",
       "        vertical-align: middle;\n",
       "    }\n",
       "\n",
       "    .dataframe tbody tr th {\n",
       "        vertical-align: top;\n",
       "    }\n",
       "\n",
       "    .dataframe thead th {\n",
       "        text-align: right;\n",
       "    }\n",
       "</style>\n",
       "<table border=\"1\" class=\"dataframe\">\n",
       "  <thead>\n",
       "    <tr style=\"text-align: right;\">\n",
       "      <th></th>\n",
       "      <th>0</th>\n",
       "      <th>1</th>\n",
       "    </tr>\n",
       "  </thead>\n",
       "  <tbody>\n",
       "    <tr>\n",
       "      <th>0</th>\n",
       "      <td>0.677845</td>\n",
       "      <td>0.322155</td>\n",
       "    </tr>\n",
       "    <tr>\n",
       "      <th>1</th>\n",
       "      <td>0.534493</td>\n",
       "      <td>0.465507</td>\n",
       "    </tr>\n",
       "    <tr>\n",
       "      <th>2</th>\n",
       "      <td>0.691845</td>\n",
       "      <td>0.308155</td>\n",
       "    </tr>\n",
       "    <tr>\n",
       "      <th>3</th>\n",
       "      <td>0.487745</td>\n",
       "      <td>0.512255</td>\n",
       "    </tr>\n",
       "    <tr>\n",
       "      <th>4</th>\n",
       "      <td>0.571939</td>\n",
       "      <td>0.428061</td>\n",
       "    </tr>\n",
       "  </tbody>\n",
       "</table>\n",
       "</div>"
      ],
      "text/plain": [
       "          0         1\n",
       "0  0.677845  0.322155\n",
       "1  0.534493  0.465507\n",
       "2  0.691845  0.308155\n",
       "3  0.487745  0.512255\n",
       "4  0.571939  0.428061"
      ]
     },
     "execution_count": 694,
     "metadata": {},
     "output_type": "execute_result"
    }
   ],
   "source": [
    "## Getting the probabilities on the test set\n",
    "\n",
    "ytest_predict_prob_lr=best_model.predict_proba(X_test_lr)\n",
    "pd.DataFrame(ytest_predict_prob_lr).head()"
   ]
  },
  {
   "cell_type": "code",
   "execution_count": 695,
   "metadata": {},
   "outputs": [
    {
     "name": "stdout",
     "output_type": "stream",
     "text": [
      "              precision    recall  f1-score   support\n",
      "\n",
      "           0       0.67      0.74      0.71       329\n",
      "           1       0.66      0.58      0.62       281\n",
      "\n",
      "    accuracy                           0.67       610\n",
      "   macro avg       0.67      0.66      0.66       610\n",
      "weighted avg       0.67      0.67      0.66       610\n",
      " \n",
      "\n"
     ]
    },
    {
     "data": {
      "image/png": "[encoded data removed]",
      "text/plain": [
       "<Figure size 432x288 with 2 Axes>"
      ]
     },
     "metadata": {
      "needs_background": "light"
     },
     "output_type": "display_data"
    }
   ],
   "source": [
    "## Confusion matrix on the training data\n",
    "\n",
    "plot_confusion_matrix(best_model,X_train_lr,y_train_lr)\n",
    "print(classification_report(y_train_lr, ytrain_predict_lr),'\\n');"
   ]
  },
  {
   "cell_type": "code",
   "execution_count": 696,
   "metadata": {},
   "outputs": [
    {
     "name": "stdout",
     "output_type": "stream",
     "text": [
      "              precision    recall  f1-score   support\n",
      "\n",
      "           0       0.65      0.76      0.70       142\n",
      "           1       0.65      0.52      0.57       120\n",
      "\n",
      "    accuracy                           0.65       262\n",
      "   macro avg       0.65      0.64      0.64       262\n",
      "weighted avg       0.65      0.65      0.64       262\n",
      " \n",
      "\n"
     ]
    },
    {
     "data": {
      "image/png": "[encoded data removed]",
      "text/plain": [
       "<Figure size 432x288 with 2 Axes>"
      ]
     },
     "metadata": {
      "needs_background": "light"
     },
     "output_type": "display_data"
    }
   ],
   "source": [
    "## Confusion matrix on the test data\n",
    "\n",
    "plot_confusion_matrix(best_model,X_test_lr,y_test_lr)\n",
    "print(classification_report(y_test_lr, ytest_predict_lr),'\\n');"
   ]
  },
  {
   "cell_type": "code",
   "execution_count": 697,
   "metadata": {},
   "outputs": [],
   "source": [
    "# Getting the equation"
   ]
  },
  {
   "cell_type": "code",
   "execution_count": 698,
   "metadata": {},
   "outputs": [
    {
     "data": {
      "text/plain": [
       "Index(['Holiday_Package', 'Salary', 'age', 'Education', 'no_young_children',\n",
       "       'no_older_children', 'Foreigner'],\n",
       "      dtype='object')"
      ]
     },
     "execution_count": 698,
     "metadata": {},
     "output_type": "execute_result"
    }
   ],
   "source": [
    "df_data.columns"
   ]
  },
  {
   "cell_type": "code",
   "execution_count": 699,
   "metadata": {},
   "outputs": [],
   "source": [
    "A1 = 'Holiday_Package~Salary+age+Education+no_young_children+no_older_children+Foreigner'"
   ]
  },
  {
   "cell_type": "code",
   "execution_count": 700,
   "metadata": {},
   "outputs": [
    {
     "name": "stdout",
     "output_type": "stream",
     "text": [
      "Optimization terminated successfully.\n",
      "         Current function value: 0.604108\n",
      "         Iterations 6\n"
     ]
    },
    {
     "data": {
      "text/html": [
       "<table class=\"simpletable\">\n",
       "<caption>Logit Regression Results</caption>\n",
       "<tr>\n",
       "  <th>Dep. Variable:</th>    <td>Holiday_Package</td> <th>  No. Observations:  </th>  <td>   872</td>  \n",
       "</tr>\n",
       "<tr>\n",
       "  <th>Model:</th>                 <td>Logit</td>      <th>  Df Residuals:      </th>  <td>   865</td>  \n",
       "</tr>\n",
       "<tr>\n",
       "  <th>Method:</th>                 <td>MLE</td>       <th>  Df Model:          </th>  <td>     6</td>  \n",
       "</tr>\n",
       "<tr>\n",
       "  <th>Date:</th>            <td>Sun, 11 Apr 2021</td> <th>  Pseudo R-squ.:     </th>  <td>0.1244</td>  \n",
       "</tr>\n",
       "<tr>\n",
       "  <th>Time:</th>                <td>21:06:51</td>     <th>  Log-Likelihood:    </th> <td> -526.78</td> \n",
       "</tr>\n",
       "<tr>\n",
       "  <th>converged:</th>             <td>True</td>       <th>  LL-Null:           </th> <td> -601.61</td> \n",
       "</tr>\n",
       "<tr>\n",
       "  <th>Covariance Type:</th>     <td>nonrobust</td>    <th>  LLR p-value:       </th> <td>9.138e-30</td>\n",
       "</tr>\n",
       "</table>\n",
       "<table class=\"simpletable\">\n",
       "<tr>\n",
       "          <td></td>             <th>coef</th>     <th>std err</th>      <th>z</th>      <th>P>|z|</th>  <th>[0.025</th>    <th>0.975]</th>  \n",
       "</tr>\n",
       "<tr>\n",
       "  <th>Intercept</th>         <td>    2.5432</td> <td>    0.559</td> <td>    4.550</td> <td> 0.000</td> <td>    1.448</td> <td>    3.639</td>\n",
       "</tr>\n",
       "<tr>\n",
       "  <th>Salary</th>            <td>-2.088e-05</td> <td> 5.26e-06</td> <td>   -3.970</td> <td> 0.000</td> <td>-3.12e-05</td> <td>-1.06e-05</td>\n",
       "</tr>\n",
       "<tr>\n",
       "  <th>age</th>               <td>   -0.0496</td> <td>    0.009</td> <td>   -5.491</td> <td> 0.000</td> <td>   -0.067</td> <td>   -0.032</td>\n",
       "</tr>\n",
       "<tr>\n",
       "  <th>Education</th>         <td>    0.0342</td> <td>    0.029</td> <td>    1.172</td> <td> 0.241</td> <td>   -0.023</td> <td>    0.091</td>\n",
       "</tr>\n",
       "<tr>\n",
       "  <th>no_young_children</th> <td>   -1.3287</td> <td>    0.180</td> <td>   -7.386</td> <td> 0.000</td> <td>   -1.681</td> <td>   -0.976</td>\n",
       "</tr>\n",
       "<tr>\n",
       "  <th>no_older_children</th> <td>   -0.0251</td> <td>    0.074</td> <td>   -0.341</td> <td> 0.733</td> <td>   -0.169</td> <td>    0.119</td>\n",
       "</tr>\n",
       "<tr>\n",
       "  <th>Foreigner</th>         <td>    1.3037</td> <td>    0.200</td> <td>    6.519</td> <td> 0.000</td> <td>    0.912</td> <td>    1.696</td>\n",
       "</tr>\n",
       "</table>"
      ],
      "text/plain": [
       "<class 'statsmodels.iolib.summary.Summary'>\n",
       "\"\"\"\n",
       "                           Logit Regression Results                           \n",
       "==============================================================================\n",
       "Dep. Variable:        Holiday_Package   No. Observations:                  872\n",
       "Model:                          Logit   Df Residuals:                      865\n",
       "Method:                           MLE   Df Model:                            6\n",
       "Date:                Sun, 11 Apr 2021   Pseudo R-squ.:                  0.1244\n",
       "Time:                        21:06:51   Log-Likelihood:                -526.78\n",
       "converged:                       True   LL-Null:                       -601.61\n",
       "Covariance Type:            nonrobust   LLR p-value:                 9.138e-30\n",
       "=====================================================================================\n",
       "                        coef    std err          z      P>|z|      [0.025      0.975]\n",
       "-------------------------------------------------------------------------------------\n",
       "Intercept             2.5432      0.559      4.550      0.000       1.448       3.639\n",
       "Salary            -2.088e-05   5.26e-06     -3.970      0.000   -3.12e-05   -1.06e-05\n",
       "age                  -0.0496      0.009     -5.491      0.000      -0.067      -0.032\n",
       "Education             0.0342      0.029      1.172      0.241      -0.023       0.091\n",
       "no_young_children    -1.3287      0.180     -7.386      0.000      -1.681      -0.976\n",
       "no_older_children    -0.0251      0.074     -0.341      0.733      -0.169       0.119\n",
       "Foreigner             1.3037      0.200      6.519      0.000       0.912       1.696\n",
       "=====================================================================================\n",
       "\"\"\""
      ]
     },
     "execution_count": 700,
     "metadata": {},
     "output_type": "execute_result"
    }
   ],
   "source": [
    "model_1 = sm.logit(formula =A1, data =df_data).fit()\n",
    "model_1.summary()"
   ]
  },
  {
   "cell_type": "markdown",
   "metadata": {},
   "source": [
    "#### Performance Metrics Linear Discriminant Analysis"
   ]
  },
  {
   "cell_type": "code",
   "execution_count": 701,
   "metadata": {},
   "outputs": [],
   "source": [
    "# Split X and y into training and test set in 70:30 ratio\n",
    "X_train_lda, X_test_lda, y_train_lda, y_test_lda = train_test_split(X, y, test_size=0.30 , random_state=1,stratify=y)"
   ]
  },
  {
   "cell_type": "code",
   "execution_count": 702,
   "metadata": {},
   "outputs": [
    {
     "data": {
      "text/plain": [
       "0    0.539344\n",
       "1    0.460656\n",
       "Name: Holiday_Package, dtype: float64"
      ]
     },
     "execution_count": 702,
     "metadata": {},
     "output_type": "execute_result"
    }
   ],
   "source": [
    "y_train_lda.value_counts(1)"
   ]
  },
  {
   "cell_type": "code",
   "execution_count": 703,
   "metadata": {},
   "outputs": [
    {
     "data": {
      "text/plain": [
       "0    0.541985\n",
       "1    0.458015\n",
       "Name: Holiday_Package, dtype: float64"
      ]
     },
     "execution_count": 703,
     "metadata": {},
     "output_type": "execute_result"
    }
   ],
   "source": [
    "y_test_lda.value_counts(1)"
   ]
  },
  {
   "cell_type": "code",
   "execution_count": 704,
   "metadata": {},
   "outputs": [],
   "source": [
    "#Build LDA Model\n",
    "clf = LinearDiscriminantAnalysis()\n",
    "model=clf.fit(X_train_lda,y_train_lda)"
   ]
  },
  {
   "cell_type": "code",
   "execution_count": 705,
   "metadata": {},
   "outputs": [],
   "source": [
    "# Prediction\n",
    "# Training Data Class Prediction with a cut-off value of 0.5\n",
    "pred_class_train = model.predict(X_train_lda)\n",
    "\n",
    "# Test Data Class Prediction with a cut-off value of 0.5\n",
    "pred_class_test = model.predict(X_test_lda)"
   ]
  },
  {
   "cell_type": "code",
   "execution_count": 706,
   "metadata": {},
   "outputs": [],
   "source": [
    "# Training Data and Test Data Confusion Matrix Comparison"
   ]
  },
  {
   "cell_type": "code",
   "execution_count": 707,
   "metadata": {},
   "outputs": [
    {
     "data": {
      "image/png": "[encoded data removed]",
      "text/plain": [
       "<Figure size 432x288 with 4 Axes>"
      ]
     },
     "metadata": {
      "needs_background": "light"
     },
     "output_type": "display_data"
    }
   ],
   "source": [
    "f,a =  plt.subplots(1,2,sharex=True,sharey=True,squeeze=False)\n",
    "\n",
    "#Plotting confusion matrix for the different models for the Training Data\n",
    "\n",
    "plot_0 = sns.heatmap((metrics.confusion_matrix(y_train_lda,pred_class_train)),annot=True,fmt='.5g',cmap='Blues',ax=a[0][0]);\n",
    "a[0][0].set_title('Training Data')\n",
    "\n",
    "plot_1 = sns.heatmap((metrics.confusion_matrix(y_test_lda,pred_class_test)),annot=True,fmt='.5g',cmap='Blues',ax=a[0][1]);\n",
    "a[0][1].set_title('Test Data');\n"
   ]
  },
  {
   "cell_type": "markdown",
   "metadata": {},
   "source": [
    "### Training Data and Test Data Classification Report Comparison"
   ]
  },
  {
   "cell_type": "code",
   "execution_count": 708,
   "metadata": {},
   "outputs": [
    {
     "name": "stdout",
     "output_type": "stream",
     "text": [
      "Classification Report of the training data:\n",
      "\n",
      "               precision    recall  f1-score   support\n",
      "\n",
      "           0       0.67      0.74      0.70       329\n",
      "           1       0.65      0.57      0.61       281\n",
      "\n",
      "    accuracy                           0.66       610\n",
      "   macro avg       0.66      0.66      0.66       610\n",
      "weighted avg       0.66      0.66      0.66       610\n",
      " \n",
      "\n",
      "Classification Report of the test data:\n",
      "\n",
      "               precision    recall  f1-score   support\n",
      "\n",
      "           0       0.65      0.76      0.70       142\n",
      "           1       0.65      0.52      0.57       120\n",
      "\n",
      "    accuracy                           0.65       262\n",
      "   macro avg       0.65      0.64      0.64       262\n",
      "weighted avg       0.65      0.65      0.64       262\n",
      " \n",
      "\n"
     ]
    }
   ],
   "source": [
    "print('Classification Report of the training data:\\n\\n',metrics.classification_report(y_train_lda,pred_class_train),'\\n')\n",
    "print('Classification Report of the test data:\\n\\n',metrics.classification_report(y_test_lda,pred_class_test),'\\n')"
   ]
  },
  {
   "cell_type": "markdown",
   "metadata": {},
   "source": [
    "### Probability prediction for the training and test data"
   ]
  },
  {
   "cell_type": "code",
   "execution_count": 709,
   "metadata": {},
   "outputs": [],
   "source": [
    "# Training Data Probability Prediction\n",
    "pred_prob_train_lda = model.predict_proba(X_train_lda)\n",
    "\n",
    "# Test Data Probability Prediction\n",
    "pred_prob_test_lda = model.predict_proba(X_test_lda)"
   ]
  },
  {
   "cell_type": "code",
   "execution_count": 710,
   "metadata": {},
   "outputs": [
    {
     "data": {
      "text/plain": [
       "array([0.73381047, 0.28335139, 0.39602227, 0.75811139, 0.47077503,\n",
       "       0.40288832, 0.36938597, 0.30429271, 0.60511549, 0.64331779,\n",
       "       0.23236876, 0.25905352, 0.35870658, 0.04481746, 0.28052157,\n",
       "       0.36436459, 0.54805152, 0.30607846, 0.58596151, 0.66087477,\n",
       "       0.62864901, 0.26524013, 0.88183311, 0.3339946 , 0.08650304,\n",
       "       0.82610447, 0.19401889, 0.75721542, 0.53138081, 0.1884556 ,\n",
       "       0.29545808, 0.33809258, 0.3786442 , 0.3805076 , 0.31248766,\n",
       "       0.29335095, 0.10970912, 0.56057784, 0.48145587, 0.19510252,\n",
       "       0.22664102, 0.79936112, 0.5017598 , 0.73936151, 0.7906696 ,\n",
       "       0.36957611, 0.30401273, 0.93317999, 0.43207603, 0.72243241,\n",
       "       0.71571829, 0.45361505, 0.78697249, 0.3732299 , 0.19256563,\n",
       "       0.74061067, 0.25056989, 0.51469343, 0.67344556, 0.35368416,\n",
       "       0.61007438, 0.52767641, 0.52194835, 0.41031873, 0.56904209,\n",
       "       0.61659997, 0.1237378 , 0.56414678, 0.40272604, 0.27648254,\n",
       "       0.33165029, 0.74716143, 0.77838017, 0.21902504, 0.44569554,\n",
       "       0.16842939, 0.48946298, 0.66268154, 0.59152821, 0.49821018,\n",
       "       0.48769058, 0.58981862, 0.82379895, 0.43536084, 0.64149814,\n",
       "       0.73419056, 0.22711015, 0.47646607, 0.46941877, 0.3086969 ,\n",
       "       0.52936834, 0.68271115, 0.82629181, 0.65888649, 0.50956767,\n",
       "       0.73136284, 0.21987905, 0.5788132 , 0.39015208, 0.41332927,\n",
       "       0.39976018, 0.3957912 , 0.46181634, 0.52378322, 0.25920842,\n",
       "       0.44729343, 0.39989435, 0.8271155 , 0.30321534, 0.34658943,\n",
       "       0.59328351, 0.2298432 , 0.68327871, 0.23890607, 0.28656065,\n",
       "       0.3825136 , 0.32963802, 0.60322271, 0.14275514, 0.50172801,\n",
       "       0.30241592, 0.63336358, 0.76785166, 0.49627646, 0.42732863,\n",
       "       0.16174804, 0.21340097, 0.50448024, 0.50689432, 0.39228435,\n",
       "       0.67211188, 0.29443056, 0.66940439, 0.14302499, 0.58853449,\n",
       "       0.63436924, 0.28906936, 0.33311718, 0.1451946 , 0.27849855,\n",
       "       0.73026385, 0.36494496, 0.20407881, 0.74344011, 0.64078769,\n",
       "       0.34654466, 0.66440097, 0.68359968, 0.44387108, 0.75878843,\n",
       "       0.59714967, 0.92798254, 0.48388033, 0.09069262, 0.64125642,\n",
       "       0.45292135, 0.06494627, 0.6150744 , 0.33953495, 0.5406669 ,\n",
       "       0.30258264, 0.42816304, 0.34808966, 0.86062434, 0.61155434,\n",
       "       0.0820682 , 0.38620703, 0.69988396, 0.60103984, 0.81181841,\n",
       "       0.42994173, 0.3545252 , 0.74882623, 0.3613716 , 0.32527371,\n",
       "       0.40517829, 0.51924065, 0.37519187, 0.58734131, 0.29608596,\n",
       "       0.38008695, 0.48590421, 0.88738917, 0.25264248, 0.38046322,\n",
       "       0.72934499, 0.29919632, 0.38466726, 0.39990506, 0.12392711,\n",
       "       0.55801996, 0.43974951, 0.64468762, 0.51800036, 0.23171371,\n",
       "       0.55393069, 0.77423428, 0.59865187, 0.80206966, 0.36708931,\n",
       "       0.24915235, 0.28556662, 0.46296325, 0.54691627, 0.65496602,\n",
       "       0.45617074, 0.21785594, 0.15438679, 0.85055747, 0.29862738,\n",
       "       0.67291553, 0.31850278, 0.37964566, 0.52417053, 0.67015389,\n",
       "       0.43034167, 0.55945828, 0.74665683, 0.50103395, 0.44217249,\n",
       "       0.4050362 , 0.24289435, 0.16029957, 0.64849283, 0.36150464,\n",
       "       0.66058593, 0.21738185, 0.59757166, 0.32722735, 0.44383931,\n",
       "       0.67710635, 0.5573034 , 0.35875633, 0.40098685, 0.65676707,\n",
       "       0.29392431, 0.82629108, 0.81009514, 0.86729868, 0.2214249 ,\n",
       "       0.57574198, 0.78644364, 0.64162646, 0.74510518, 0.1590308 ,\n",
       "       0.38137657, 0.52302886, 0.20721549, 0.53988898, 0.44546106,\n",
       "       0.48191885, 0.06224914, 0.37642615, 0.33830973, 0.1883538 ,\n",
       "       0.28193697, 0.39990878, 0.1793965 , 0.49853259, 0.71261268,\n",
       "       0.45277569, 0.8176098 , 0.41441641, 0.26059838, 0.45045006,\n",
       "       0.52895587, 0.79038683, 0.41144187, 0.31705165, 0.43407504,\n",
       "       0.3167753 , 0.72983945, 0.45309213, 0.69219515, 0.66370373,\n",
       "       0.19422673, 0.50371718, 0.27838295, 0.55967609, 0.23430998,\n",
       "       0.77035257, 0.59273557, 0.43384624, 0.26256887, 0.45821128,\n",
       "       0.25071917, 0.13817307, 0.34419084, 0.49625782, 0.18644935,\n",
       "       0.35108401, 0.49304938, 0.47568478, 0.73885575, 0.42213423,\n",
       "       0.06213849, 0.15778833, 0.354998  , 0.18838604, 0.45285986,\n",
       "       0.40841447, 0.74007829, 0.16076273, 0.40827634, 0.51821657,\n",
       "       0.78079357, 0.32618653, 0.59943593, 0.34010133, 0.44992046,\n",
       "       0.27904796, 0.66378617, 0.78097615, 0.34109774, 0.58870236,\n",
       "       0.35015022, 0.36744452, 0.29852369, 0.32812698, 0.2141645 ,\n",
       "       0.76683221, 0.19964713, 0.32921357, 0.79250377, 0.2102479 ,\n",
       "       0.343359  , 0.30504911, 0.78164701, 0.41763048, 0.74884396,\n",
       "       0.47766979, 0.28931201, 0.7692554 , 0.71119297, 0.31744003,\n",
       "       0.35354109, 0.06080436, 0.55404355, 0.88497451, 0.706445  ,\n",
       "       0.60553123, 0.74320087, 0.6686998 , 0.1361587 , 0.51397345,\n",
       "       0.43613167, 0.45794284, 0.43303146, 0.71531023, 0.71055256,\n",
       "       0.54271277, 0.370863  , 0.68555837, 0.29641797, 0.29277656,\n",
       "       0.68130879, 0.20659921, 0.43525758, 0.32844224, 0.4152144 ,\n",
       "       0.5997977 , 0.16881553, 0.46009775, 0.26019301, 0.42708462,\n",
       "       0.55024592, 0.38836229, 0.16880089, 0.8502632 , 0.67395997,\n",
       "       0.27369926, 0.83326679, 0.36217872, 0.17200863, 0.82902918,\n",
       "       0.2298329 , 0.34362071, 0.34670355, 0.40351344, 0.31549686,\n",
       "       0.51367204, 0.71440738, 0.14783965, 0.5641029 , 0.12569624,\n",
       "       0.24583228, 0.23468096, 0.77834401, 0.04026492, 0.55229938,\n",
       "       0.26431499, 0.05046582, 0.78171546, 0.73805164, 0.68838659,\n",
       "       0.73020032, 0.38502209, 0.3933067 , 0.52137838, 0.82840503,\n",
       "       0.48567162, 0.22892041, 0.36722802, 0.28285612, 0.25141501,\n",
       "       0.44861524, 0.11413841, 0.6674346 , 0.45701078, 0.50167249,\n",
       "       0.25728271, 0.32316768, 0.35235577, 0.23458808, 0.73344443,\n",
       "       0.34554069, 0.13901792, 0.6360607 , 0.24705138, 0.3684117 ,\n",
       "       0.76006926, 0.17705907, 0.85209408, 0.87666517, 0.68301318,\n",
       "       0.37748547, 0.33776809, 0.23998124, 0.40448886, 0.67653447,\n",
       "       0.73080696, 0.80349522, 0.45809869, 0.80969608, 0.63043203,\n",
       "       0.32894996, 0.61137113, 0.37906444, 0.32856719, 0.72977688,\n",
       "       0.42272602, 0.39562304, 0.82508068, 0.68193548, 0.46158361,\n",
       "       0.43151691, 0.26228804, 0.7195249 , 0.54851528, 0.51713634,\n",
       "       0.75367576, 0.2366537 , 0.53715378, 0.46739956, 0.38471784,\n",
       "       0.64686744, 0.58051615, 0.30183445, 0.3346893 , 0.37516386,\n",
       "       0.23690209, 0.71305261, 0.3828488 , 0.52934372, 0.54198746,\n",
       "       0.87330447, 0.56862464, 0.58919006, 0.36904797, 0.14603354,\n",
       "       0.51394349, 0.30558207, 0.72329413, 0.41283763, 0.52146081,\n",
       "       0.1737839 , 0.39662817, 0.25221923, 0.58328442, 0.34759931,\n",
       "       0.72642439, 0.30032268, 0.61595686, 0.29474868, 0.28376911,\n",
       "       0.16751127, 0.32310981, 0.31189567, 0.41803191, 0.599253  ,\n",
       "       0.3179236 , 0.55107941, 0.42429803, 0.7270323 , 0.81947961,\n",
       "       0.17300492, 0.69909612, 0.28309798, 0.37264361, 0.31144352,\n",
       "       0.77372536, 0.5665229 , 0.23324775, 0.36670903, 0.31984693,\n",
       "       0.21376335, 0.29878928, 0.77908612, 0.8624811 , 0.32425689,\n",
       "       0.1543261 , 0.70667222, 0.67536185, 0.22915587, 0.86573235,\n",
       "       0.57089746, 0.59248434, 0.79400774, 0.31801124, 0.64446493,\n",
       "       0.48428308, 0.51006921, 0.27859218, 0.80285548, 0.39557259,\n",
       "       0.68233198, 0.17705907, 0.50383792, 0.34581624, 0.49778756,\n",
       "       0.44790637, 0.40698313, 0.4980803 , 0.25516771, 0.1879852 ,\n",
       "       0.51270489, 0.34395815, 0.2551717 , 0.62488533, 0.18802357,\n",
       "       0.1935268 , 0.4094346 , 0.27685497, 0.34175348, 0.53973217,\n",
       "       0.28200831, 0.22232985, 0.45226308, 0.30279457, 0.52387528,\n",
       "       0.56881038, 0.56940363, 0.6878226 , 0.32476497, 0.3776425 ,\n",
       "       0.4011075 , 0.66831223, 0.23352799, 0.1556685 , 0.41453401,\n",
       "       0.13501408, 0.12944718, 0.52669744, 0.10255118, 0.76672461,\n",
       "       0.29517577, 0.6394975 , 0.72627531, 0.83109174, 0.48353045,\n",
       "       0.77361496, 0.33684842, 0.23321964, 0.62042696, 0.29826328,\n",
       "       0.4440756 , 0.37456278, 0.11777486, 0.11109204, 0.54560693,\n",
       "       0.35873965, 0.30516119, 0.50820506, 0.58571701, 0.46082385,\n",
       "       0.12020151, 0.68052065, 0.24441856, 0.26773125, 0.50909011,\n",
       "       0.32616034, 0.3315583 , 0.62788522, 0.45849657, 0.38790842,\n",
       "       0.2812688 , 0.44915754, 0.46615662, 0.15711013, 0.34283821,\n",
       "       0.37226247, 0.27666368, 0.86532427, 0.50619644, 0.78307324,\n",
       "       0.38340497, 0.43380098, 0.536435  , 0.74202156, 0.48534598])"
      ]
     },
     "execution_count": 710,
     "metadata": {},
     "output_type": "execute_result"
    }
   ],
   "source": [
    "pred_prob_train_lda[:,1]"
   ]
  },
  {
   "cell_type": "code",
   "execution_count": 711,
   "metadata": {},
   "outputs": [
    {
     "name": "stdout",
     "output_type": "stream",
     "text": [
      "AUC for the Training Data: 0.731\n",
      "AUC for the Test Data: 0.714\n"
     ]
    },
    {
     "data": {
      "image/png": "[encoded data removed]",
      "text/plain": [
       "<Figure size 432x288 with 1 Axes>"
      ]
     },
     "metadata": {
      "needs_background": "light"
     },
     "output_type": "display_data"
    }
   ],
   "source": [
    "# AUC and ROC for the training data\n",
    "\n",
    "# calculate AUC\n",
    "lda_train_auc = metrics.roc_auc_score(y_train_lda,pred_prob_train_lda[:,1])\n",
    "print('AUC for the Training Data: %.3f' %lda_train_auc)\n",
    "\n",
    "#  calculate roc curve\n",
    "fpr, tpr, thresholds = metrics.roc_curve(y_train_lda,pred_prob_train_lda[:,1])\n",
    "plt.plot([0, 1], [0, 1], linestyle='--')\n",
    "# plot the roc curve for the model\n",
    "plt.plot(fpr, tpr, marker='.',label = 'Training Data')\n",
    "\n",
    "\n",
    "# AUC and ROC for the test data\n",
    "\n",
    "# calculate AUC\n",
    "lda_test_auc = metrics.roc_auc_score(y_test_lda,pred_prob_test_lda[:,1])\n",
    "print('AUC for the Test Data: %.3f' % auc)\n",
    "\n",
    "#  calculate roc curve\n",
    "fpr, tpr, thresholds = metrics.roc_curve(y_test_lda,pred_prob_test_lda[:,1])\n",
    "plt.plot([0, 1], [0, 1], linestyle='--')\n",
    "# plot the roc curve for the model\n",
    "plt.plot(fpr, tpr, marker='.',label='Test Data')\n",
    "# show the plot\n",
    "plt.legend(loc='best')\n",
    "plt.show()"
   ]
  },
  {
   "cell_type": "code",
   "execution_count": 712,
   "metadata": {},
   "outputs": [
    {
     "name": "stdout",
     "output_type": "stream",
     "text": [
      "0.1 \n",
      "\n",
      "Accuracy Score 0.4738\n",
      "F1 Score 0.6356 \n",
      "\n",
      "Confusion Matrix\n"
     ]
    },
    {
     "data": {
      "image/png": "[encoded data removed]",
      "text/plain": [
       "<Figure size 432x288 with 2 Axes>"
      ]
     },
     "metadata": {
      "needs_background": "light"
     },
     "output_type": "display_data"
    },
    {
     "name": "stdout",
     "output_type": "stream",
     "text": [
      "0.2 \n",
      "\n",
      "Accuracy Score 0.523\n",
      "F1 Score 0.6498 \n",
      "\n",
      "Confusion Matrix\n"
     ]
    },
    {
     "data": {
      "image/png": "[encoded data removed]",
      "text/plain": [
       "<Figure size 432x288 with 2 Axes>"
      ]
     },
     "metadata": {
      "needs_background": "light"
     },
     "output_type": "display_data"
    },
    {
     "name": "stdout",
     "output_type": "stream",
     "text": [
      "0.3 \n",
      "\n",
      "Accuracy Score 0.6066\n",
      "F1 Score 0.6774 \n",
      "\n",
      "Confusion Matrix\n"
     ]
    },
    {
     "data": {
      "image/png": "[encoded data removed]",
      "text/plain": [
       "<Figure size 432x288 with 2 Axes>"
      ]
     },
     "metadata": {
      "needs_background": "light"
     },
     "output_type": "display_data"
    },
    {
     "name": "stdout",
     "output_type": "stream",
     "text": [
      "0.4 \n",
      "\n",
      "Accuracy Score 0.6623\n",
      "F1 Score 0.6677 \n",
      "\n",
      "Confusion Matrix\n"
     ]
    },
    {
     "data": {
      "image/png": "[encoded data removed]",
      "text/plain": [
       "<Figure size 432x288 with 2 Axes>"
      ]
     },
     "metadata": {
      "needs_background": "light"
     },
     "output_type": "display_data"
    },
    {
     "name": "stdout",
     "output_type": "stream",
     "text": [
      "0.5 \n",
      "\n",
      "Accuracy Score 0.6623\n",
      "F1 Score 0.6098 \n",
      "\n",
      "Confusion Matrix\n"
     ]
    },
    {
     "data": {
      "image/png": "[encoded data removed]",
      "text/plain": [
       "<Figure size 432x288 with 2 Axes>"
      ]
     },
     "metadata": {
      "needs_background": "light"
     },
     "output_type": "display_data"
    },
    {
     "name": "stdout",
     "output_type": "stream",
     "text": [
      "0.6 \n",
      "\n",
      "Accuracy Score 0.6508\n",
      "F1 Score 0.5192 \n",
      "\n",
      "Confusion Matrix\n"
     ]
    },
    {
     "data": {
      "image/png": "[encoded data removed]",
      "text/plain": [
       "<Figure size 432x288 with 2 Axes>"
      ]
     },
     "metadata": {
      "needs_background": "light"
     },
     "output_type": "display_data"
    },
    {
     "name": "stdout",
     "output_type": "stream",
     "text": [
      "0.7 \n",
      "\n",
      "Accuracy Score 0.6426\n",
      "F1 Score 0.4263 \n",
      "\n",
      "Confusion Matrix\n"
     ]
    },
    {
     "data": {
      "image/png": "[encoded data removed]",
      "text/plain": [
       "<Figure size 432x288 with 2 Axes>"
      ]
     },
     "metadata": {
      "needs_background": "light"
     },
     "output_type": "display_data"
    },
    {
     "name": "stdout",
     "output_type": "stream",
     "text": [
      "0.8 \n",
      "\n",
      "Accuracy Score 0.5902\n",
      "F1 Score 0.2038 \n",
      "\n",
      "Confusion Matrix\n"
     ]
    },
    {
     "data": {
      "image/png": "[encoded data removed]",
      "text/plain": [
       "<Figure size 432x288 with 2 Axes>"
      ]
     },
     "metadata": {
      "needs_background": "light"
     },
     "output_type": "display_data"
    },
    {
     "name": "stdout",
     "output_type": "stream",
     "text": [
      "0.9 \n",
      "\n",
      "Accuracy Score 0.5426\n",
      "F1 Score 0.0141 \n",
      "\n",
      "Confusion Matrix\n"
     ]
    },
    {
     "data": {
      "image/png": "[encoded data removed]",
      "text/plain": [
       "<Figure size 432x288 with 2 Axes>"
      ]
     },
     "metadata": {
      "needs_background": "light"
     },
     "output_type": "display_data"
    }
   ],
   "source": [
    "for j in np.arange(0.1,1,0.1):\n",
    "    custom_prob = j #defining the cut-off value of our choice\n",
    "    custom_cutoff_data=[]#defining an empty list\n",
    "    for i in range(0,len(y_train_lda)):#defining a loop for the length of the test data\n",
    "        if np.array(pred_prob_train_lda[:,1])[i] > custom_prob:#issuing a condition for our probability values to be \n",
    "            #greater than the custom cutoff value\n",
    "            a=1#if the probability values are greater than the custom cutoff then the value should be 1\n",
    "        else:\n",
    "            a=0#if the probability values are less than the custom cutoff then the value should be 0\n",
    "        custom_cutoff_data.append(a)#adding either 1 or 0 based on the condition to the end of the list defined by us\n",
    "    print(round(j,3),'\\n')\n",
    "    print('Accuracy Score',round(metrics.accuracy_score(y_train_lda,custom_cutoff_data),4))\n",
    "    print('F1 Score',round(metrics.f1_score(y_train_lda,custom_cutoff_data),4),'\\n')\n",
    "    plt.figure(figsize=(6,4))\n",
    "    print('Confusion Matrix')\n",
    "    sns.heatmap(metrics.confusion_matrix(y_train_lda,custom_cutoff_data),annot=True,fmt='.4g'),'\\n\\n'\n",
    "    plt.show();"
   ]
  },
  {
   "cell_type": "code",
   "execution_count": null,
   "metadata": {},
   "outputs": [],
   "source": []
  },
  {
   "cell_type": "code",
   "execution_count": 713,
   "metadata": {},
   "outputs": [
    {
     "name": "stdout",
     "output_type": "stream",
     "text": [
      "Cutoff: 0.1 \t Accuracy: 0.4738 recall: 0.9964 precision: 0.4667 F1 Score: 0.6356\n",
      "Cutoff: 0.2 \t Accuracy: 0.523 recall: 0.9609 precision: 0.4909 F1 Score: 0.6498\n",
      "Cutoff: 0.3 \t Accuracy: 0.6066 recall: 0.8968 precision: 0.5443 F1 Score: 0.6774\n",
      "Cutoff: 0.4 \t Accuracy: 0.6623 recall: 0.7367 precision: 0.6106 F1 Score: 0.6677\n",
      "Cutoff: 0.5 \t Accuracy: 0.6623 recall: 0.573 precision: 0.6518 F1 Score: 0.6098\n",
      "Cutoff: 0.6 \t Accuracy: 0.6508 recall: 0.4093 precision: 0.7099 F1 Score: 0.5192\n",
      "Cutoff: 0.7 \t Accuracy: 0.6426 recall: 0.2883 precision: 0.8182 F1 Score: 0.4263\n",
      "Cutoff: 0.8 \t Accuracy: 0.5902 recall: 0.1139 precision: 0.9697 F1 Score: 0.2038\n",
      "Cutoff: 0.9 \t Accuracy: 0.5426 recall: 0.0071 precision: 1.0 F1 Score: 0.0141\n"
     ]
    }
   ],
   "source": [
    "for j in np.arange(0.1,1,0.1):\n",
    "    custom_prob = j #defining the cut-off value of our choice\n",
    "    custom_cutoff_train=[]#defining an empty list\n",
    "    for i in range(0,len(y_train_lda)):#defining a loop for the length of the test data\n",
    "        if np.array(pred_prob_train_lda[:,1])[i] > custom_prob:#issuing a condition for our probability values to be \n",
    "            #greater than the custom cutoff value\n",
    "            a=1#if the probability values are greater than the custom cutoff then the value should be 1\n",
    "        else:\n",
    "            a=0#if the probability values are less than the custom cutoff then the value should be 0\n",
    "        custom_cutoff_train.append(a)#adding either 1 or 0 based on the condition to the end of the list defined by us\n",
    "        \n",
    "    print('Cutoff:', round (j,3),'\\t', 'Accuracy:',round(metrics.accuracy_score(y_train_lda,custom_cutoff_train),4),\n",
    "                                            'recall:',round(metrics.recall_score(y_train_lda,custom_cutoff_train),4),\n",
    "                                             'precision:',round(metrics.precision_score(y_train_lda,custom_cutoff_train),4),\n",
    "                                             'F1 Score:',round(metrics.f1_score(y_train_lda,custom_cutoff_train),4)\n",
    "                )"
   ]
  },
  {
   "cell_type": "code",
   "execution_count": 714,
   "metadata": {},
   "outputs": [],
   "source": [
    "# Cutoff: 0.3 \t Accuracy: 0.6066 recall: 0.8968 precision: 0.5443 F1 Score: 0.6774\n",
    "lda_train_recall=0.8968\n",
    "lda_train_precision=0.5443\n",
    "lda_train_f1=0.6774"
   ]
  },
  {
   "cell_type": "code",
   "execution_count": 715,
   "metadata": {},
   "outputs": [],
   "source": [
    "#Predicting the classes on the test data\n",
    "\n",
    "data_pred_custom_cutoff=[]\n",
    "for i in range(0,len(pred_prob_test_lda[:,1])):\n",
    "    if np.array(pred_prob_test_lda[:,1])[i]>0.3:\n",
    "        a=1\n",
    "    else:\n",
    "        a=0\n",
    "    data_pred_custom_cutoff.append(a)"
   ]
  },
  {
   "cell_type": "code",
   "execution_count": 716,
   "metadata": {},
   "outputs": [
    {
     "data": {
      "image/png": "[encoded data removed]",
      "text/plain": [
       "<Figure size 432x288 with 2 Axes>"
      ]
     },
     "metadata": {
      "needs_background": "light"
     },
     "output_type": "display_data"
    }
   ],
   "source": [
    "sns.heatmap((metrics.confusion_matrix(y_test_lda,data_pred_custom_cutoff)),annot=True,fmt='.5g',cmap='Greens');"
   ]
  },
  {
   "cell_type": "code",
   "execution_count": 717,
   "metadata": {},
   "outputs": [
    {
     "name": "stdout",
     "output_type": "stream",
     "text": [
      "Classification Report of the default cut-off test data:\n",
      "\n",
      "               precision    recall  f1-score   support\n",
      "\n",
      "           0       0.65      0.76      0.70       142\n",
      "           1       0.65      0.52      0.57       120\n",
      "\n",
      "    accuracy                           0.65       262\n",
      "   macro avg       0.65      0.64      0.64       262\n",
      "weighted avg       0.65      0.65      0.64       262\n",
      " \n",
      "\n",
      "\n",
      "\n",
      "Classification Report of the custom cut-off test data:\n",
      "\n",
      "               precision    recall  f1-score   support\n",
      "\n",
      "           0       0.81      0.32      0.46       142\n",
      "           1       0.53      0.91      0.67       120\n",
      "\n",
      "    accuracy                           0.59       262\n",
      "   macro avg       0.67      0.62      0.57       262\n",
      "weighted avg       0.68      0.59      0.56       262\n",
      " \n",
      "\n"
     ]
    }
   ],
   "source": [
    "print('Classification Report of the default cut-off test data:\\n\\n',metrics.classification_report(y_test_lda,pred_class_test),'\\n\\n\\n')\n",
    "print('Classification Report of the custom cut-off test data:\\n\\n',metrics.classification_report(y_test_lda,data_pred_custom_cutoff),'\\n')"
   ]
  },
  {
   "cell_type": "code",
   "execution_count": 718,
   "metadata": {},
   "outputs": [
    {
     "name": "stdout",
     "output_type": "stream",
     "text": [
      "lda_test_precision  0.53\n",
      "lda_test_recall  0.91\n",
      "lda_test_f1  0.67\n"
     ]
    }
   ],
   "source": [
    "lda_metrics_test=classification_report(y_test_lda, data_pred_custom_cutoff,output_dict=True)\n",
    "df=pd.DataFrame(lda_metrics_test).transpose()\n",
    "lda_test_precision=round(df.loc[\"1\"][0],2)\n",
    "lda_test_recall=round(df.loc[\"1\"][1],2)\n",
    "lda_test_f1=round(df.loc[\"1\"][2],2)\n",
    "print ('lda_test_precision ',lda_test_precision)\n",
    "print ('lda_test_recall ',lda_test_recall)\n",
    "print ('lda_test_f1 ',lda_test_f1)"
   ]
  },
  {
   "cell_type": "code",
   "execution_count": 719,
   "metadata": {},
   "outputs": [
    {
     "data": {
      "text/plain": [
       "0.648854961832061"
      ]
     },
     "execution_count": 719,
     "metadata": {},
     "output_type": "execute_result"
    }
   ],
   "source": [
    "# Accuracy - Test Data\n",
    "lda_test_acc=model.score(X_test_lda, y_test_lda)\n",
    "lda_test_acc"
   ]
  },
  {
   "cell_type": "code",
   "execution_count": 720,
   "metadata": {},
   "outputs": [
    {
     "data": {
      "text/plain": [
       "0.6622950819672131"
      ]
     },
     "execution_count": 720,
     "metadata": {},
     "output_type": "execute_result"
    }
   ],
   "source": [
    "# Accuracy - Train Data\n",
    "lda_train_acc=model.score(X_train_lda, y_train_lda)\n",
    "lda_train_acc"
   ]
  },
  {
   "cell_type": "code",
   "execution_count": 721,
   "metadata": {},
   "outputs": [
    {
     "data": {
      "text/html": [
       "<div>\n",
       "<style scoped>\n",
       "    .dataframe tbody tr th:only-of-type {\n",
       "        vertical-align: middle;\n",
       "    }\n",
       "\n",
       "    .dataframe tbody tr th {\n",
       "        vertical-align: top;\n",
       "    }\n",
       "\n",
       "    .dataframe thead th {\n",
       "        text-align: right;\n",
       "    }\n",
       "</style>\n",
       "<table border=\"1\" class=\"dataframe\">\n",
       "  <thead>\n",
       "    <tr style=\"text-align: right;\">\n",
       "      <th></th>\n",
       "      <th>LR Train</th>\n",
       "      <th>LR Test</th>\n",
       "      <th>LDA Train</th>\n",
       "      <th>LDA Test</th>\n",
       "    </tr>\n",
       "  </thead>\n",
       "  <tbody>\n",
       "    <tr>\n",
       "      <th>Accuracy</th>\n",
       "      <td>0.67</td>\n",
       "      <td>0.65</td>\n",
       "      <td>0.66</td>\n",
       "      <td>0.65</td>\n",
       "    </tr>\n",
       "    <tr>\n",
       "      <th>AUC</th>\n",
       "      <td>0.73</td>\n",
       "      <td>0.71</td>\n",
       "      <td>0.73</td>\n",
       "      <td>0.71</td>\n",
       "    </tr>\n",
       "    <tr>\n",
       "      <th>Recall</th>\n",
       "      <td>0.58</td>\n",
       "      <td>0.52</td>\n",
       "      <td>0.90</td>\n",
       "      <td>0.91</td>\n",
       "    </tr>\n",
       "    <tr>\n",
       "      <th>Precision</th>\n",
       "      <td>0.66</td>\n",
       "      <td>0.65</td>\n",
       "      <td>0.54</td>\n",
       "      <td>0.53</td>\n",
       "    </tr>\n",
       "    <tr>\n",
       "      <th>F1 Score</th>\n",
       "      <td>0.62</td>\n",
       "      <td>0.57</td>\n",
       "      <td>0.68</td>\n",
       "      <td>0.67</td>\n",
       "    </tr>\n",
       "  </tbody>\n",
       "</table>\n",
       "</div>"
      ],
      "text/plain": [
       "           LR Train  LR Test  LDA Train  LDA Test\n",
       "Accuracy       0.67     0.65       0.66      0.65\n",
       "AUC            0.73     0.71       0.73      0.71\n",
       "Recall         0.58     0.52       0.90      0.91\n",
       "Precision      0.66     0.65       0.54      0.53\n",
       "F1 Score       0.62     0.57       0.68      0.67"
      ]
     },
     "execution_count": 721,
     "metadata": {},
     "output_type": "execute_result"
    }
   ],
   "source": [
    "data = pd.DataFrame({'LR Train':[lr_train_acc,lr_train_auc,lr_train_recall,lr_train_precision,lr_train_f1],\n",
    "'LR Test':[lr_test_acc,lr_test_auc,lr_test_recall,lr_test_precision,lr_test_f1],\n",
    "'LDA Train':[lda_train_acc,lda_train_auc,lda_train_recall,lda_train_precision,lda_train_f1],\n",
    "'LDA Test':[lda_test_acc,lda_test_auc,lda_test_recall,lda_test_precision,lda_test_f1]},index=['Accuracy', 'AUC', 'Recall','Precision','F1 Score'])\n",
    "round(data,2)"
   ]
  },
  {
   "cell_type": "markdown",
   "metadata": {},
   "source": [
    "If we Compare the above results, Accuracy and AUC are almost same for both models. In case of Recall and Precision both Models have performed good and better vice versa, so this can be little nullified.\n",
    "Now F1 score remains a strong deciding Factor, but we can see that both are having almost similar value. but LDA seens to be on brighter side in comparision with Logistic Regression.Generally Linear Discriminant Analysis Performs better if Target variable is Categorical."
   ]
  },
  {
   "cell_type": "markdown",
   "metadata": {},
   "source": [
    "#### 2.4 Inference: Basis on these predictions, what are the insights and recommendations. Please explain and summarise the various steps performed in this project. There should be proper business interpretation and actionable insights present. "
   ]
  },
  {
   "cell_type": "markdown",
   "metadata": {},
   "source": [
    "##### Summary:\n",
    "In this Case study we have to decide strategy or plan by looking at 872 employees data. We have to provide a plan to improve the count of Holiday Packages and earn more profit.\n",
    "\n",
    "##### Steps Performed and Insights:\n",
    "To Achive this first we did Exploratory Data Analysis, to get the hidden patterns within variables.and we found some Interesting insights in this step.\n",
    "\n",
    "Salary is continuous variable,Whereas age, educ and number young children are having integers. Two Variables 'Holiday Package' and 'Employee went to Foreign or Not' are Categorical Variables. Here Holiday Package is Target Variable/Independent variable.\n",
    "\n",
    "'Salary' is independent variable and it has Outliers, We have removed it.Other variables has outliers but we have not removed it, as it seems valid.\n",
    "\n",
    "Most of The Employees get the Salary between 10,000 to 1,00,000. and they are the ones who choosing Holiday_Packages. It can be seen that Salary is High if No of Education years is High.\n",
    "\n",
    "Very few Datapoints can suggest that Salary is Increasing with Age. Age group 20-60 Shows Almost Similar pattern in terms of Salary.Employee age over 50 to 60 have seems to be not taking the holiday package.\n",
    "\n",
    "After EDA, We have split the data and Applied two algorithms\n",
    "1.Logistic Regression\n",
    "2.Linear Discriminant Analyis\n",
    "\n",
    "Both Algorithms shown almost similar Results after performing metric checks.\n",
    "\n",
    "Salary, Education and age seems to be deciding factors.\n",
    "here it can be seen that person who went to Foreign opted for Holiday Package.\n",
    "\n",
    "##### Recommendations:\n",
    "\n",
    "The one who are Earning above 1,50,000 are not choosing Packages, we need further data to find why.\n",
    "or on present data we can say that by providing some better tour plans, foreign trips ,If they are busy with their work we can provide Some uninterrupted Connection/Internet/Connectivity plans, so that we can convince them to select package.\n",
    "\n",
    "The Person who are above 50 needs to be Targeted,as they are not choosing Holiday Packages. We might need to change the plans, Or promotional offers, Couple discounts, Some additional Security. Or we can convince this age group by giving  a company of more people from same age group, so that they will not feel alone or missed.\n",
    "\n",
    "We have to Provide the better plans to the ones who has Older children and more convinient trips to the once who has children in range of 0-7 years, to increase Sales.\n",
    "\n",
    "\n"
   ]
  },
  {
   "cell_type": "code",
   "execution_count": null,
   "metadata": {},
   "outputs": [],
   "source": []
  },
  {
   "cell_type": "code",
   "execution_count": null,
   "metadata": {},
   "outputs": [],
   "source": []
  },
  {
   "cell_type": "code",
   "execution_count": null,
   "metadata": {},
   "outputs": [],
   "source": []
  },
  {
   "cell_type": "code",
   "execution_count": null,
   "metadata": {},
   "outputs": [],
   "source": []
  },
  {
   "cell_type": "code",
   "execution_count": null,
   "metadata": {},
   "outputs": [],
   "source": []
  },
  {
   "cell_type": "code",
   "execution_count": null,
   "metadata": {},
   "outputs": [],
   "source": []
  },
  {
   "cell_type": "code",
   "execution_count": null,
   "metadata": {},
   "outputs": [],
   "source": []
  },
  {
   "cell_type": "code",
   "execution_count": null,
   "metadata": {},
   "outputs": [],
   "source": []
  },
  {
   "cell_type": "code",
   "execution_count": null,
   "metadata": {},
   "outputs": [],
   "source": []
  },
  {
   "cell_type": "code",
   "execution_count": null,
   "metadata": {},
   "outputs": [],
   "source": []
  },
  {
   "cell_type": "code",
   "execution_count": null,
   "metadata": {},
   "outputs": [],
   "source": []
  },
  {
   "cell_type": "code",
   "execution_count": null,
   "metadata": {},
   "outputs": [],
   "source": []
  },
  {
   "cell_type": "code",
   "execution_count": null,
   "metadata": {},
   "outputs": [],
   "source": []
  },
  {
   "cell_type": "code",
   "execution_count": null,
   "metadata": {},
   "outputs": [],
   "source": []
  },
  {
   "cell_type": "code",
   "execution_count": null,
   "metadata": {},
   "outputs": [],
   "source": []
  },
  {
   "cell_type": "code",
   "execution_count": null,
   "metadata": {},
   "outputs": [],
   "source": []
  },
  {
   "cell_type": "code",
   "execution_count": null,
   "metadata": {},
   "outputs": [],
   "source": []
  },
  {
   "cell_type": "code",
   "execution_count": null,
   "metadata": {},
   "outputs": [],
   "source": []
  },
  {
   "cell_type": "code",
   "execution_count": null,
   "metadata": {},
   "outputs": [],
   "source": []
  },
  {
   "cell_type": "code",
   "execution_count": null,
   "metadata": {},
   "outputs": [],
   "source": []
  },
  {
   "cell_type": "code",
   "execution_count": null,
   "metadata": {},
   "outputs": [],
   "source": []
  },
  {
   "cell_type": "code",
   "execution_count": null,
   "metadata": {},
   "outputs": [],
   "source": []
  },
  {
   "cell_type": "code",
   "execution_count": null,
   "metadata": {},
   "outputs": [],
   "source": []
  },
  {
   "cell_type": "code",
   "execution_count": null,
   "metadata": {},
   "outputs": [],
   "source": []
  },
  {
   "cell_type": "code",
   "execution_count": null,
   "metadata": {},
   "outputs": [],
   "source": []
  },
  {
   "cell_type": "code",
   "execution_count": null,
   "metadata": {},
   "outputs": [],
   "source": []
  },
  {
   "cell_type": "code",
   "execution_count": null,
   "metadata": {},
   "outputs": [],
   "source": []
  },
  {
   "cell_type": "code",
   "execution_count": null,
   "metadata": {},
   "outputs": [],
   "source": []
  },
  {
   "cell_type": "code",
   "execution_count": null,
   "metadata": {},
   "outputs": [],
   "source": []
  },
  {
   "cell_type": "code",
   "execution_count": null,
   "metadata": {},
   "outputs": [],
   "source": []
  },
  {
   "cell_type": "code",
   "execution_count": null,
   "metadata": {},
   "outputs": [],
   "source": []
  },
  {
   "cell_type": "code",
   "execution_count": null,
   "metadata": {},
   "outputs": [],
   "source": []
  },
  {
   "cell_type": "code",
   "execution_count": null,
   "metadata": {},
   "outputs": [],
   "source": []
  },
  {
   "cell_type": "code",
   "execution_count": null,
   "metadata": {},
   "outputs": [],
   "source": []
  },
  {
   "cell_type": "code",
   "execution_count": null,
   "metadata": {},
   "outputs": [],
   "source": []
  },
  {
   "cell_type": "code",
   "execution_count": null,
   "metadata": {},
   "outputs": [],
   "source": []
  },
  {
   "cell_type": "code",
   "execution_count": null,
   "metadata": {},
   "outputs": [],
   "source": []
  },
  {
   "cell_type": "code",
   "execution_count": null,
   "metadata": {},
   "outputs": [],
   "source": []
  },
  {
   "cell_type": "code",
   "execution_count": null,
   "metadata": {},
   "outputs": [],
   "source": []
  },
  {
   "cell_type": "code",
   "execution_count": null,
   "metadata": {},
   "outputs": [],
   "source": []
  },
  {
   "cell_type": "code",
   "execution_count": null,
   "metadata": {},
   "outputs": [],
   "source": []
  },
  {
   "cell_type": "code",
   "execution_count": null,
   "metadata": {},
   "outputs": [],
   "source": []
  },
  {
   "cell_type": "code",
   "execution_count": null,
   "metadata": {},
   "outputs": [],
   "source": []
  },
  {
   "cell_type": "code",
   "execution_count": null,
   "metadata": {},
   "outputs": [],
   "source": []
  },
  {
   "cell_type": "code",
   "execution_count": null,
   "metadata": {},
   "outputs": [],
   "source": []
  },
  {
   "cell_type": "code",
   "execution_count": null,
   "metadata": {},
   "outputs": [],
   "source": []
  },
  {
   "cell_type": "code",
   "execution_count": null,
   "metadata": {},
   "outputs": [],
   "source": []
  },
  {
   "cell_type": "code",
   "execution_count": null,
   "metadata": {},
   "outputs": [],
   "source": []
  },
  {
   "cell_type": "code",
   "execution_count": null,
   "metadata": {},
   "outputs": [],
   "source": []
  },
  {
   "cell_type": "code",
   "execution_count": null,
   "metadata": {},
   "outputs": [],
   "source": []
  },
  {
   "cell_type": "code",
   "execution_count": null,
   "metadata": {},
   "outputs": [],
   "source": []
  },
  {
   "cell_type": "code",
   "execution_count": null,
   "metadata": {},
   "outputs": [],
   "source": []
  },
  {
   "cell_type": "code",
   "execution_count": null,
   "metadata": {},
   "outputs": [],
   "source": []
  },
  {
   "cell_type": "code",
   "execution_count": null,
   "metadata": {},
   "outputs": [],
   "source": []
  },
  {
   "cell_type": "code",
   "execution_count": null,
   "metadata": {},
   "outputs": [],
   "source": []
  },
  {
   "cell_type": "code",
   "execution_count": null,
   "metadata": {},
   "outputs": [],
   "source": []
  },
  {
   "cell_type": "code",
   "execution_count": null,
   "metadata": {},
   "outputs": [],
   "source": []
  },
  {
   "cell_type": "code",
   "execution_count": null,
   "metadata": {},
   "outputs": [],
   "source": []
  },
  {
   "cell_type": "code",
   "execution_count": null,
   "metadata": {},
   "outputs": [],
   "source": []
  },
  {
   "cell_type": "code",
   "execution_count": null,
   "metadata": {},
   "outputs": [],
   "source": []
  },
  {
   "cell_type": "code",
   "execution_count": null,
   "metadata": {},
   "outputs": [],
   "source": []
  },
  {
   "cell_type": "code",
   "execution_count": null,
   "metadata": {},
   "outputs": [],
   "source": []
  },
  {
   "cell_type": "code",
   "execution_count": null,
   "metadata": {},
   "outputs": [],
   "source": []
  },
  {
   "cell_type": "code",
   "execution_count": null,
   "metadata": {},
   "outputs": [],
   "source": []
  },
  {
   "cell_type": "code",
   "execution_count": null,
   "metadata": {},
   "outputs": [],
   "source": []
  },
  {
   "cell_type": "code",
   "execution_count": null,
   "metadata": {},
   "outputs": [],
   "source": []
  },
  {
   "cell_type": "code",
   "execution_count": null,
   "metadata": {},
   "outputs": [],
   "source": []
  },
  {
   "cell_type": "code",
   "execution_count": null,
   "metadata": {},
   "outputs": [],
   "source": []
  },
  {
   "cell_type": "code",
   "execution_count": null,
   "metadata": {},
   "outputs": [],
   "source": []
  },
  {
   "cell_type": "code",
   "execution_count": null,
   "metadata": {},
   "outputs": [],
   "source": []
  },
  {
   "cell_type": "code",
   "execution_count": null,
   "metadata": {},
   "outputs": [],
   "source": []
  },
  {
   "cell_type": "code",
   "execution_count": null,
   "metadata": {},
   "outputs": [],
   "source": []
  },
  {
   "cell_type": "code",
   "execution_count": null,
   "metadata": {},
   "outputs": [],
   "source": []
  },
  {
   "cell_type": "code",
   "execution_count": null,
   "metadata": {},
   "outputs": [],
   "source": []
  },
  {
   "cell_type": "code",
   "execution_count": null,
   "metadata": {},
   "outputs": [],
   "source": []
  },
  {
   "cell_type": "code",
   "execution_count": null,
   "metadata": {},
   "outputs": [],
   "source": []
  },
  {
   "cell_type": "code",
   "execution_count": null,
   "metadata": {},
   "outputs": [],
   "source": []
  },
  {
   "cell_type": "code",
   "execution_count": null,
   "metadata": {},
   "outputs": [],
   "source": []
  },
  {
   "cell_type": "code",
   "execution_count": null,
   "metadata": {},
   "outputs": [],
   "source": []
  },
  {
   "cell_type": "code",
   "execution_count": null,
   "metadata": {},
   "outputs": [],
   "source": []
  },
  {
   "cell_type": "code",
   "execution_count": null,
   "metadata": {},
   "outputs": [],
   "source": []
  },
  {
   "cell_type": "code",
   "execution_count": null,
   "metadata": {},
   "outputs": [],
   "source": []
  },
  {
   "cell_type": "code",
   "execution_count": null,
   "metadata": {},
   "outputs": [],
   "source": []
  },
  {
   "cell_type": "code",
   "execution_count": null,
   "metadata": {},
   "outputs": [],
   "source": []
  },
  {
   "cell_type": "code",
   "execution_count": null,
   "metadata": {},
   "outputs": [],
   "source": []
  },
  {
   "cell_type": "code",
   "execution_count": null,
   "metadata": {},
   "outputs": [],
   "source": []
  },
  {
   "cell_type": "code",
   "execution_count": null,
   "metadata": {},
   "outputs": [],
   "source": []
  },
  {
   "cell_type": "code",
   "execution_count": null,
   "metadata": {},
   "outputs": [],
   "source": []
  },
  {
   "cell_type": "code",
   "execution_count": null,
   "metadata": {},
   "outputs": [],
   "source": []
  },
  {
   "cell_type": "code",
   "execution_count": null,
   "metadata": {},
   "outputs": [],
   "source": []
  },
  {
   "cell_type": "code",
   "execution_count": null,
   "metadata": {},
   "outputs": [],
   "source": []
  },
  {
   "cell_type": "code",
   "execution_count": null,
   "metadata": {},
   "outputs": [],
   "source": []
  },
  {
   "cell_type": "code",
   "execution_count": null,
   "metadata": {},
   "outputs": [],
   "source": []
  },
  {
   "cell_type": "code",
   "execution_count": null,
   "metadata": {},
   "outputs": [],
   "source": []
  },
  {
   "cell_type": "code",
   "execution_count": null,
   "metadata": {},
   "outputs": [],
   "source": []
  },
  {
   "cell_type": "code",
   "execution_count": null,
   "metadata": {},
   "outputs": [],
   "source": []
  },
  {
   "cell_type": "code",
   "execution_count": null,
   "metadata": {},
   "outputs": [],
   "source": []
  },
  {
   "cell_type": "code",
   "execution_count": null,
   "metadata": {},
   "outputs": [],
   "source": []
  },
  {
   "cell_type": "code",
   "execution_count": null,
   "metadata": {},
   "outputs": [],
   "source": []
  },
  {
   "cell_type": "code",
   "execution_count": null,
   "metadata": {},
   "outputs": [],
   "source": []
  },
  {
   "cell_type": "code",
   "execution_count": null,
   "metadata": {},
   "outputs": [],
   "source": []
  },
  {
   "cell_type": "code",
   "execution_count": null,
   "metadata": {},
   "outputs": [],
   "source": []
  },
  {
   "cell_type": "code",
   "execution_count": null,
   "metadata": {},
   "outputs": [],
   "source": []
  },
  {
   "cell_type": "code",
   "execution_count": null,
   "metadata": {},
   "outputs": [],
   "source": []
  },
  {
   "cell_type": "code",
   "execution_count": null,
   "metadata": {},
   "outputs": [],
   "source": []
  },
  {
   "cell_type": "code",
   "execution_count": null,
   "metadata": {},
   "outputs": [],
   "source": []
  },
  {
   "cell_type": "code",
   "execution_count": null,
   "metadata": {},
   "outputs": [],
   "source": []
  },
  {
   "cell_type": "code",
   "execution_count": null,
   "metadata": {},
   "outputs": [],
   "source": []
  },
  {
   "cell_type": "code",
   "execution_count": null,
   "metadata": {},
   "outputs": [],
   "source": []
  },
  {
   "cell_type": "code",
   "execution_count": null,
   "metadata": {},
   "outputs": [],
   "source": []
  },
  {
   "cell_type": "code",
   "execution_count": null,
   "metadata": {},
   "outputs": [],
   "source": []
  },
  {
   "cell_type": "code",
   "execution_count": null,
   "metadata": {},
   "outputs": [],
   "source": []
  },
  {
   "cell_type": "code",
   "execution_count": null,
   "metadata": {},
   "outputs": [],
   "source": []
  },
  {
   "cell_type": "code",
   "execution_count": null,
   "metadata": {},
   "outputs": [],
   "source": []
  },
  {
   "cell_type": "code",
   "execution_count": null,
   "metadata": {},
   "outputs": [],
   "source": []
  },
  {
   "cell_type": "code",
   "execution_count": null,
   "metadata": {},
   "outputs": [],
   "source": []
  },
  {
   "cell_type": "code",
   "execution_count": null,
   "metadata": {},
   "outputs": [],
   "source": []
  },
  {
   "cell_type": "code",
   "execution_count": null,
   "metadata": {},
   "outputs": [],
   "source": []
  },
  {
   "cell_type": "code",
   "execution_count": null,
   "metadata": {},
   "outputs": [],
   "source": []
  },
  {
   "cell_type": "code",
   "execution_count": null,
   "metadata": {},
   "outputs": [],
   "source": []
  },
  {
   "cell_type": "code",
   "execution_count": null,
   "metadata": {},
   "outputs": [],
   "source": []
  },
  {
   "cell_type": "code",
   "execution_count": null,
   "metadata": {},
   "outputs": [],
   "source": []
  },
  {
   "cell_type": "code",
   "execution_count": null,
   "metadata": {},
   "outputs": [],
   "source": []
  },
  {
   "cell_type": "code",
   "execution_count": null,
   "metadata": {},
   "outputs": [],
   "source": []
  },
  {
   "cell_type": "code",
   "execution_count": null,
   "metadata": {},
   "outputs": [],
   "source": []
  },
  {
   "cell_type": "code",
   "execution_count": null,
   "metadata": {},
   "outputs": [],
   "source": []
  },
  {
   "cell_type": "code",
   "execution_count": null,
   "metadata": {},
   "outputs": [],
   "source": []
  },
  {
   "cell_type": "code",
   "execution_count": null,
   "metadata": {},
   "outputs": [],
   "source": []
  },
  {
   "cell_type": "code",
   "execution_count": null,
   "metadata": {},
   "outputs": [],
   "source": []
  },
  {
   "cell_type": "code",
   "execution_count": null,
   "metadata": {},
   "outputs": [],
   "source": []
  }
 ],
 "metadata": {
  "kernelspec": {
   "display_name": "Python 3",
   "language": "python",
   "name": "python3"
  },
  "language_info": {
   "codemirror_mode": {
    "name": "ipython",
    "version": 3
   },
   "file_extension": ".py",
   "mimetype": "text/x-python",
   "name": "python",
   "nbconvert_exporter": "python",
   "pygments_lexer": "ipython3",
   "version": "3.8.3"
  }
 },
 "nbformat": 4,
 "nbformat_minor": 4
}
